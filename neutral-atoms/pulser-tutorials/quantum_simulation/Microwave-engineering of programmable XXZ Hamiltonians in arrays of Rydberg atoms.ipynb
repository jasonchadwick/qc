{
 "cells": [
  {
   "cell_type": "markdown",
   "metadata": {},
   "source": [
    "# Simulation of XYZ spin models using Floquet engineering in XY mode"
   ]
  },
  {
   "cell_type": "code",
   "execution_count": null,
   "metadata": {},
   "outputs": [],
   "source": [
    "import numpy as np\n",
    "import matplotlib\n",
    "import matplotlib.pyplot as plt\n",
    "import qutip\n",
    "\n",
    "import pulser\n",
    "from pulser import Pulse, Sequence, Register\n",
    "from pulser_simulation import Simulation\n",
    "from pulser.devices import MockDevice, Chadoq2\n",
    "from pulser.waveforms import BlackmanWaveform"
   ]
  },
  {
   "cell_type": "markdown",
   "metadata": {},
   "source": [
    "In this notebook, we will reproduce some results of \"Microwave-engineering of programmable XXZ Hamiltonians in arrays of Rydberg atoms\", P. Scholl, et. al., https://arxiv.org/pdf/2107.14459.pdf."
   ]
  },
  {
   "cell_type": "markdown",
   "metadata": {},
   "source": [
    "### Floquet Engineering on two atoms\n",
    "\n",
    "We start by considering the dynamics of two interacting atoms under $H_{XXZ}$. To demonstrate the dynamically tunable aspect of the microwave engineering, we change the Hamiltonian during the evolution of the system. More specifically, we start from $|\\rightarrow \\rightarrow \\rangle_y$, let the atoms evolve under $H_{XX}$ and apply a microwave pulse sequence between $0.9\\mu s$ and $1.2\\mu s$ only.\n",
    "\n",
    "Let us first define our $\\pm X$ and  $\\pm Y$ pulses. "
   ]
  },
  {
   "cell_type": "code",
   "execution_count": null,
   "metadata": {},
   "outputs": [],
   "source": [
    "# Times are in ns\n",
    "t_pulse = 26\n",
    "\n",
    "X_pulse = Pulse.ConstantDetuning(BlackmanWaveform(t_pulse, np.pi / 2.0), 0, 0)\n",
    "Y_pulse = Pulse.ConstantDetuning(\n",
    "    BlackmanWaveform(t_pulse, np.pi / 2.0), 0, -np.pi / 2\n",
    ")\n",
    "mX_pulse = Pulse.ConstantDetuning(\n",
    "    BlackmanWaveform(t_pulse, np.pi / 2.0), 0, np.pi\n",
    ")\n",
    "mY_pulse = Pulse.ConstantDetuning(\n",
    "    BlackmanWaveform(t_pulse, np.pi / 2.0), 0, np.pi / 2\n",
    ")"
   ]
  },
  {
   "cell_type": "markdown",
   "metadata": {},
   "source": [
    "Let's also define a function to add the pulses during one cycle."
   ]
  },
  {
   "cell_type": "code",
   "execution_count": null,
   "metadata": {},
   "outputs": [],
   "source": [
    "def Floquet_XXZ_cycles(n_cycles, tau_1, tau_2, t_pulse):\n",
    "    t_half = t_pulse / 2.0\n",
    "    tau_3 = tau_2\n",
    "    tc = 4 * tau_2 + 2 * tau_1\n",
    "    for _ in range(n_cycles):\n",
    "        seq.delay(tau_1 - t_half, \"MW\")\n",
    "        seq.add(X_pulse, \"MW\")\n",
    "        seq.delay(tau_2 - 2 * t_half, \"MW\")\n",
    "        seq.add(mY_pulse, \"MW\")\n",
    "        seq.delay(2 * tau_3 - 2 * t_half, \"MW\")\n",
    "        seq.add(Y_pulse, \"MW\")\n",
    "        seq.delay(tau_2 - 2 * t_half, \"MW\")\n",
    "        seq.add(mX_pulse, \"MW\")\n",
    "        seq.delay(tau_1 - t_half, \"MW\")"
   ]
  },
  {
   "cell_type": "markdown",
   "metadata": {},
   "source": [
    "We are ready to start building our sequence."
   ]
  },
  {
   "cell_type": "code",
   "execution_count": null,
   "metadata": {},
   "outputs": [],
   "source": [
    "# We take two atoms distant by 10 ums.\n",
    "coords = np.array([[0, 0], [10, 0]])\n",
    "qubits = dict(enumerate(coords))\n",
    "reg = Register(qubits)\n",
    "\n",
    "seq = Sequence(reg, MockDevice)\n",
    "seq.declare_channel(\"MW\", \"mw_global\")\n",
    "seq.set_magnetic_field(0.0, 0.0, 1.0)\n",
    "\n",
    "tc = 300\n",
    "seq.delay(3 * tc, \"MW\")\n",
    "Floquet_XXZ_cycles(4, tc / 6.0, tc / 6.0, t_pulse)\n",
    "seq.delay(6 * tc, \"MW\")\n",
    "\n",
    "# Here are our evaluation times\n",
    "t_list = []\n",
    "for p in range(13):\n",
    "    t_list.append(tc / 1000.0 * p)"
   ]
  },
  {
   "cell_type": "markdown",
   "metadata": {},
   "source": [
    "Let's draw the sequence, to see that the microwave engineering only happens between $900 ns$ and $2100 ns$, which corresponds to $H_{XX} \\to H_{XXX}$. During that period, the total y-magnetization $\\langle \\sigma^y_1 + \\sigma^y_2 \\rangle$ is expected to be frozen, as this quantity commutes with $H_{XXX}$."
   ]
  },
  {
   "cell_type": "code",
   "execution_count": null,
   "metadata": {},
   "outputs": [],
   "source": [
    "seq.draw()"
   ]
  },
  {
   "cell_type": "code",
   "execution_count": null,
   "metadata": {},
   "outputs": [],
   "source": [
    "sim = Simulation(seq, sampling_rate=1.0, config=None, evaluation_times=t_list)\n",
    "psi_y = (qutip.basis(2, 0) + 1j * qutip.basis(2, 1)).unit()\n",
    "sim.initial_state = qutip.tensor(psi_y, psi_y)\n",
    "res = sim.run()"
   ]
  },
  {
   "cell_type": "code",
   "execution_count": null,
   "metadata": {},
   "outputs": [],
   "source": [
    "sy = qutip.sigmay()\n",
    "Id = qutip.qeye(2)\n",
    "Sigma_y = (qutip.tensor(sy, Id) + qutip.tensor(Id, sy)) / 2.0\n",
    "Sigma_y_res = res.expect([Sigma_y])"
   ]
  },
  {
   "cell_type": "code",
   "execution_count": null,
   "metadata": {},
   "outputs": [],
   "source": [
    "plt.figure()\n",
    "\n",
    "# Showing the Hamiltonian engineering period.\n",
    "line1 = 0.9\n",
    "line2 = 2.1\n",
    "plt.axvspan(line1, line2, alpha=0.1, color=\"grey\")\n",
    "plt.text(1.0, 0.5, r\"$H_{XX} \\to H_{XXX}$\", fontsize=14)\n",
    "\n",
    "plt.plot(sim.evaluation_times, Sigma_y_res[0], \"o\")\n",
    "plt.xlabel(r\"Time [µs]\", fontsize=16)\n",
    "plt.ylabel(rf\"$ (\\langle \\sigma_1^y + \\sigma_2^y \\rangle)/2$\", fontsize=16)\n",
    "plt.show()"
   ]
  },
  {
   "cell_type": "markdown",
   "metadata": {},
   "source": [
    "Note that one cannot directly measure off diagonal elements of the density matrix experimentally. To be able to measure $\\langle \\sigma^y_1 + \\sigma^y_2 \\rangle$, one would need to first apply a rotation on the atoms (equivalent to changing the basis) and then measure the population. "
   ]
  },
  {
   "cell_type": "markdown",
   "metadata": {},
   "source": [
    "### Domain-wall dynamics\n",
    "\n",
    "Now, we will look at the dynamics of the system under $H_{XX2Z}$ when starting in a Domain-Wall (DW) state $|\\psi_0\\rangle = |\\uparrow \\uparrow \\uparrow \\uparrow \\uparrow \\downarrow \\downarrow \\downarrow \\downarrow \\downarrow\\rangle$, for two distinct geometries : open boundary conditions (OBC) and periodic boundary conditions (PBC). In the case of $H_{XX2Z}$, only 2 pulses per Floquet cycle are required, as the $X$ and $-X$ pulses cancel out."
   ]
  },
  {
   "cell_type": "code",
   "execution_count": null,
   "metadata": {},
   "outputs": [],
   "source": [
    "def Floquet_XX2Z_cycles(n_cycles, t_pulse):\n",
    "    t_half = t_pulse / 2.0\n",
    "    tau_3 = tau_2 = tc / 4.0\n",
    "    for _ in range(n_cycles):\n",
    "        seq.delay(tau_2 - t_half, \"MW\")\n",
    "        seq.add(mY_pulse, \"MW\")\n",
    "        seq.delay(2 * tau_3 - 2 * t_half, \"MW\")\n",
    "        seq.add(Y_pulse, \"MW\")\n",
    "        seq.delay(tau_2 - t_half, \"MW\")"
   ]
  },
  {
   "cell_type": "code",
   "execution_count": null,
   "metadata": {},
   "outputs": [],
   "source": [
    "N_at = 10\n",
    "# Number of Floquet cycles\n",
    "N_cycles = 20\n",
    "# In the following, we will take 1000 projective measurements of the system at the final time.\n",
    "N_samples = 1000"
   ]
  },
  {
   "cell_type": "markdown",
   "metadata": {},
   "source": [
    "In the experiment, all the atoms start in the same initial state. In order to create a domain-wall state, one must apply a $\\pi$-pulse on only half of the atoms. On the hardware, this can be done by using a Spatial Light Modulator which imprints a specific phase pattern on a laser beam. This results in a set of focused laser beams in the atomic plane, whose geometry corresponds to the subset of sites to address, preventing the addressed atoms from interacting with the global microwave pulse due to a shift in energy.\n",
    "\n",
    "This feature is implemented in Pulser. For implementing this, we need to define a $\\pi$-pulse, and the list of indices of the atoms we want to mask. "
   ]
  },
  {
   "cell_type": "code",
   "execution_count": null,
   "metadata": {},
   "outputs": [],
   "source": [
    "initial_pi_pulse = Pulse.ConstantDetuning(\n",
    "    BlackmanWaveform(2 * t_pulse, np.pi), 0, 0\n",
    ")\n",
    "masked_indices = np.arange(N_at // 2)"
   ]
  },
  {
   "cell_type": "code",
   "execution_count": null,
   "metadata": {},
   "outputs": [],
   "source": [
    "# Line geometry\n",
    "reg = Register.rectangle(1, N_at, 10)\n",
    "magnetizations_obc = np.zeros((N_at, N_cycles), dtype=float)\n",
    "correl_obc = np.zeros(N_cycles, dtype=float)\n",
    "for m in range(N_cycles):  # Runtime close to 2 min!\n",
    "    seq = Sequence(reg, MockDevice)\n",
    "    seq.declare_channel(\"MW\", \"mw_global\")\n",
    "    seq.set_magnetic_field(0.0, 0.0, 1.0)\n",
    "    # Configure the SLM mask, that will prevent the masked qubits from interacting with the first global \\pi pulse\n",
    "    seq.config_slm_mask(masked_indices)\n",
    "    seq.add(initial_pi_pulse, \"MW\")\n",
    "    seq.add(X_pulse, \"MW\")\n",
    "    Floquet_XX2Z_cycles(m, t_pulse)\n",
    "    seq.add(mX_pulse, \"MW\")\n",
    "    sim = Simulation(seq)\n",
    "    res = sim.run()\n",
    "    samples = res.sample_final_state(N_samples)\n",
    "    correl = 0.0\n",
    "    for key, value in samples.items():\n",
    "        for j in range(N_at):\n",
    "            correl -= (\n",
    "                (2 * float(key[j]) - 1)\n",
    "                * (2 * float(key[(j + 1) % N_at]) - 1)\n",
    "                * value\n",
    "                / N_samples\n",
    "            )\n",
    "            magnetizations_obc[j][m] += (\n",
    "                (2 * float(key[j]) - 1) * value / N_samples\n",
    "            )\n",
    "    correl_obc[m] = N_at / 2 + correl / 2"
   ]
  },
  {
   "cell_type": "code",
   "execution_count": null,
   "metadata": {},
   "outputs": [],
   "source": [
    "# Circular geometry\n",
    "coords = (\n",
    "    10.0\n",
    "    * N_at\n",
    "    / (2 * np.pi)\n",
    "    * np.array(\n",
    "        [\n",
    "            (\n",
    "                np.cos(theta * 2 * np.pi / N_at),\n",
    "                np.sin(theta * 2 * np.pi / N_at),\n",
    "            )\n",
    "            for theta in range(N_at)\n",
    "        ]\n",
    "    )\n",
    ")\n",
    "reg = Register.from_coordinates(coords)\n",
    "\n",
    "magnetizations_pbc = np.zeros((N_at, N_cycles), dtype=float)\n",
    "correl_pbc = np.zeros(N_cycles, dtype=float)\n",
    "for m in range(N_cycles):  # Runtime close to 2 min!\n",
    "    seq = Sequence(reg, MockDevice)\n",
    "    seq.declare_channel(\"MW\", \"mw_global\")\n",
    "    seq.set_magnetic_field(0.0, 0.0, 1.0)\n",
    "    seq.config_slm_mask(masked_indices)\n",
    "    seq.add(initial_pi_pulse, \"MW\")\n",
    "    seq.add(X_pulse, \"MW\")\n",
    "    Floquet_XX2Z_cycles(m, t_pulse)\n",
    "    seq.add(mX_pulse, \"MW\")\n",
    "    sim = Simulation(seq)\n",
    "    res = sim.run()\n",
    "    samples = res.sample_final_state(N_samples)\n",
    "    correl = 0.0\n",
    "    for key, value in samples.items():\n",
    "        for j in range(N_at):\n",
    "            correl -= (\n",
    "                (2 * float(key[j]) - 1)\n",
    "                * (2 * float(key[(j + 1) % N_at]) - 1)\n",
    "                * value\n",
    "                / N_samples\n",
    "            )\n",
    "            magnetizations_pbc[j][m] += (\n",
    "                (2 * float(key[j]) - 1) * value / N_samples\n",
    "            )\n",
    "    correl_pbc[m] = N_at / 2 + correl / 2"
   ]
  },
  {
   "cell_type": "markdown",
   "metadata": {},
   "source": [
    "Let's plot the evolution of the magnetization $\\langle \\sigma^z_j \\rangle$ in time for all the sites $j$."
   ]
  },
  {
   "cell_type": "code",
   "execution_count": null,
   "metadata": {},
   "outputs": [],
   "source": [
    "fig, ax = plt.subplots(1, 1)\n",
    "img = ax.imshow(magnetizations_obc, cmap=plt.get_cmap(\"RdBu\"))\n",
    "plt.title(\"OBC\", fontsize=16)\n",
    "ax.set_xlabel(\"Cycle\", fontsize=16)\n",
    "ax.set_ylabel(\"Atom number\", fontsize=16)\n",
    "cbar = fig.colorbar(img, shrink=0.7)\n",
    "cbar.set_label(r\"$\\langle \\sigma^z \\rangle$\", fontsize=16)\n",
    "\n",
    "\n",
    "fig, ax = plt.subplots(1, 1)\n",
    "img = ax.imshow(magnetizations_pbc, cmap=plt.get_cmap(\"RdBu\"))\n",
    "plt.title(\"PBC\", fontsize=16)\n",
    "ax.set_xlabel(\"Cycle\", fontsize=16)\n",
    "ax.set_ylabel(\"Atom number\", fontsize=16)\n",
    "cbar = fig.colorbar(img, shrink=0.7)\n",
    "cbar.set_label(r\"$\\langle \\sigma^z \\rangle$\", fontsize=16)"
   ]
  },
  {
   "cell_type": "markdown",
   "metadata": {},
   "source": [
    "We see that the magnetization profiles look rather different for OBC and PBC. It seems that the initial DW melts in the case of PBC. In fact, the decrease of $|\\langle \\sigma^z_j \\rangle|$ for all sites is due to a delocalization of the DW along the circle. This delocalization can be more apparent when looking at correlations. More specifically, we see on the plot below that the number of spin flips between consecutive atoms along the circle, $\\langle N_{flip} \\rangle=1/2\\sum_j(1-\\langle \\sigma_j^z \\sigma_{j+1}^z\\rangle)$, remains quite low during the dynamics for both OBC (red) and PBC (blue), while it should tend to $N_{at}/2=5$ for randomly distributed spins. "
   ]
  },
  {
   "cell_type": "code",
   "execution_count": null,
   "metadata": {},
   "outputs": [],
   "source": [
    "fig, ax = plt.subplots(1, 1)\n",
    "plt.title(\n",
    "    r\"Evolution of $\\langle N_{flip} \\rangle$ in time for OBC (red) and PBC (blue).\",\n",
    "    fontsize=16,\n",
    ")\n",
    "ax.set_xlabel(\"Cycle\", fontsize=16)\n",
    "ax.set_ylabel(r\"$\\langle N_{flip} \\rangle$\", fontsize=14)\n",
    "ax.plot(correl_pbc, \"--o\", color=\"blue\")\n",
    "ax.plot(correl_obc, \"--o\", color=\"red\")"
   ]
  },
  {
   "cell_type": "markdown",
   "metadata": {},
   "source": [
    "To investigate even more this delocalization effect, let's consider a smaller region of only 3 spins prepared in $|\\uparrow \\rangle$. The delocalization timescale will then be shorter, and we will see it more clearly happening in the system"
   ]
  },
  {
   "cell_type": "code",
   "execution_count": null,
   "metadata": {},
   "outputs": [],
   "source": [
    "N_cycles = 26\n",
    "magnetizations_pbc = np.zeros((N_at, N_cycles), dtype=float)\n",
    "samples_evol = []\n",
    "masked_indices = [0, 1, 2]\n",
    "for m in range(N_cycles):  # Runtime close to 4 min!\n",
    "    seq = Sequence(reg, MockDevice)\n",
    "    seq.set_magnetic_field(0.0, 0.0, 1.0)\n",
    "    seq.declare_channel(\"MW\", \"mw_global\")\n",
    "    seq.config_slm_mask(masked_indices)\n",
    "    seq.add(initial_pi_pulse, \"MW\")\n",
    "    seq.add(X_pulse, \"MW\")\n",
    "    Floquet_XX2Z_cycles(m, t_pulse)\n",
    "    seq.add(mX_pulse, \"MW\")\n",
    "    sim = Simulation(seq)\n",
    "    res = sim.run()\n",
    "    samples = res.sample_final_state(N_samples)\n",
    "    samples_evol.append(samples)\n",
    "    correl = 0.0\n",
    "    for key, value in samples.items():\n",
    "        for j in range(N_at):\n",
    "            magnetizations_pbc[j][m] += (\n",
    "                (2 * float(key[j]) - 1) * value / N_samples\n",
    "            )"
   ]
  },
  {
   "cell_type": "code",
   "execution_count": null,
   "metadata": {},
   "outputs": [],
   "source": [
    "fig, ax = plt.subplots(1, 1)\n",
    "img = ax.imshow(magnetizations_pbc, cmap=plt.get_cmap(\"RdBu\"))\n",
    "ax.set_xlabel(\"Cycle\", fontsize=16)\n",
    "ax.set_ylabel(\"Atom number\", fontsize=16)\n",
    "cbar = fig.colorbar(img)\n",
    "cbar.set_label(r\"$\\langle \\sigma^z \\rangle$\", fontsize=16)"
   ]
  },
  {
   "cell_type": "markdown",
   "metadata": {},
   "source": [
    "We see above that the magnetization profile tends to average. But if we look at the histogram of sampled states in time, we will remark that domain-wall configurations are dominant (in red in the histograms below). As time increases, the delocalization mechanism populates more and more domain-wall states distinct from the initial state."
   ]
  },
  {
   "cell_type": "code",
   "execution_count": null,
   "metadata": {},
   "outputs": [],
   "source": [
    "dw_preserved = [\n",
    "    \"0001111111\",\n",
    "    \"1000111111\",\n",
    "    \"1100011111\",\n",
    "    \"1110001111\",\n",
    "    \"1111000111\",\n",
    "    \"1111100011\",\n",
    "    \"1111110001\",\n",
    "    \"1111111000\",\n",
    "    \"0111111100\",\n",
    "    \"0011111110\",\n",
    "]\n",
    "\n",
    "for n_cycle in [\n",
    "    2 * k for k in range(int(N_cycles / 2))\n",
    "]:  # Runtime close to 2 min !\n",
    "    color_dict = {\n",
    "        key: \"red\" if key in dw_preserved else \"black\"\n",
    "        for key in samples_evol[n_cycle]\n",
    "    }\n",
    "    plt.figure(figsize=(16, 5))\n",
    "    plt.title(r\"Cycle $= {}$\".format(n_cycle), fontsize=18)\n",
    "    plt.bar(\n",
    "        samples_evol[n_cycle].keys(),\n",
    "        samples_evol[n_cycle].values(),\n",
    "        color=color_dict.values(),\n",
    "    )\n",
    "    plt.xlabel(\"bitstrings\", fontsize=16)\n",
    "    plt.ylabel(\"counts\", fontsize=16)\n",
    "    plt.xticks(rotation=90)\n",
    "    plt.show()"
   ]
  }
 ],
 "metadata": {
  "kernelspec": {
   "display_name": "Python 3.10.5 ('qc')",
   "language": "python",
   "name": "python3"
  },
  "language_info": {
   "codemirror_mode": {
    "name": "ipython",
    "version": 3
   },
   "file_extension": ".py",
   "mimetype": "text/x-python",
   "name": "python",
   "nbconvert_exporter": "python",
   "pygments_lexer": "ipython3",
   "version": "3.10.5"
  },
  "vscode": {
   "interpreter": {
    "hash": "4052f8a41a31fc5cbd2e3526dbc8abbffa51b82c1f3d5451a58f494cdae71e31"
   }
  }
 },
 "nbformat": 4,
 "nbformat_minor": 4
}
