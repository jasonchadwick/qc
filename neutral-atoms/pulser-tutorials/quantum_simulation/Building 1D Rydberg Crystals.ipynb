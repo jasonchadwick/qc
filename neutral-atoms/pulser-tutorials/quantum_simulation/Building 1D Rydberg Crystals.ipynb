{
 "cells": [
  {
   "cell_type": "markdown",
   "metadata": {},
   "source": [
    "# Building 1D Rydberg Crystals"
   ]
  },
  {
   "cell_type": "markdown",
   "metadata": {},
   "source": [
    "The following notebook shows a study of many-body dynamics on a 1D system. It is based on [1707.04344](https://arxiv.org/abs/1707.04344). The authors of that paper studied the preparation of symmetry-breaking states in antiferromagnetic Ising chains, by tuning the interaction and driving parameters accross the phase diagram. In this notebook, we reproduce some results of this paper. Since this is a particular experiment not based on certified devices, we will use the `MockDevice` class to allow for a wide range of configuration settings."
   ]
  },
  {
   "cell_type": "code",
   "execution_count": null,
   "metadata": {},
   "outputs": [],
   "source": [
    "import numpy as np\n",
    "import matplotlib.pyplot as plt\n",
    "import qutip\n",
    "\n",
    "from pulser import Pulse, Sequence, Register\n",
    "from pulser_simulation import Simulation\n",
    "from pulser.waveforms import CompositeWaveform, RampWaveform, ConstantWaveform\n",
    "from pulser.devices import MockDevice"
   ]
  },
  {
   "cell_type": "markdown",
   "metadata": {},
   "source": [
    "## 1. Rydberg Blockade at Resonant Driving"
   ]
  },
  {
   "cell_type": "markdown",
   "metadata": {},
   "source": [
    "We first consider clusters of $1, 2$ and $3$ atoms under resonant ($\\delta = 0$) driving. If all the atoms are placed within each other's blockade volume, only one excitation per group will be possible at a time. The Rabi frequency will be enhanced by $\\sqrt{N}$"
   ]
  },
  {
   "cell_type": "code",
   "execution_count": null,
   "metadata": {},
   "outputs": [],
   "source": [
    "def occupation(reg, j):\n",
    "    r = qutip.basis(2, 0)\n",
    "    N = len(reg.qubits)\n",
    "    prod = [qutip.qeye(2) for _ in range(N)]\n",
    "    prod[j] = r * r.dag()\n",
    "    return qutip.tensor(prod)"
   ]
  },
  {
   "cell_type": "markdown",
   "metadata": {},
   "source": [
    "Given a value of the maximum Rabi Frequency applied to the atoms, we can calculate the corresponding blockade radius using the `rydberg_blockade_radius()` method from `MockDevice`. We use this to arrange clusters of atoms which will experience this blockade effect:"
   ]
  },
  {
   "cell_type": "code",
   "execution_count": null,
   "metadata": {},
   "outputs": [],
   "source": [
    "Omega_max = 2 * 2 * np.pi\n",
    "R_blockade = MockDevice.rydberg_blockade_radius(Omega_max)\n",
    "print(f\"Blockade Radius is: {R_blockade}µm.\")\n",
    "groups = 3\n",
    "\n",
    "\n",
    "def blockade_cluster(N):\n",
    "\n",
    "    atom_coords = [\n",
    "        ((R_blockade / N) * x + 40 * group, 0)\n",
    "        for group in range(groups)\n",
    "        for x in range(1, N + 1)\n",
    "    ]\n",
    "    reg = Register.from_coordinates(atom_coords, prefix=\"q\")\n",
    "    reg.draw(\n",
    "        blockade_radius=R_blockade, draw_half_radius=True, draw_graph=False\n",
    "    )\n",
    "\n",
    "    resonant_pulse = Pulse.ConstantPulse(1500, Omega_max, 0.0, 0.0)\n",
    "\n",
    "    seq = Sequence(reg, MockDevice)\n",
    "    seq.declare_channel(\"ising\", \"rydberg_global\")\n",
    "    seq.add(resonant_pulse, \"ising\")\n",
    "\n",
    "    simul = Simulation(seq, sampling_rate=0.2)\n",
    "\n",
    "    obs = [\n",
    "        sum(occupation(reg, j) for j in range(i, i + N))\n",
    "        for i in range(0, groups * N, N)\n",
    "    ]\n",
    "\n",
    "    res = simul.run(progress_bar=True, method=\"bdf\")\n",
    "    return res.expect(obs)"
   ]
  },
  {
   "cell_type": "markdown",
   "metadata": {},
   "source": [
    "Next we run `blockade_cluster(N)`, which runs the simulation, for clusters of sizes $N \\in \\{1,2,3\\}$:"
   ]
  },
  {
   "cell_type": "code",
   "execution_count": null,
   "metadata": {},
   "outputs": [],
   "source": [
    "data = [blockade_cluster(N) for N in [1, 2, 3]]"
   ]
  },
  {
   "cell_type": "markdown",
   "metadata": {},
   "source": [
    "We now plot the probability that a Rydberg state withing the cluster is occupied (by summing the expectation values of the $|r\\rangle\\langle r|_i$ operators for each cluster) as it evolves in time, revealing the Rabi frequency of each configuration:"
   ]
  },
  {
   "cell_type": "code",
   "execution_count": null,
   "metadata": {},
   "outputs": [],
   "source": [
    "fig, ax = plt.subplots(1, 3, figsize=(18, 3))\n",
    "for N, expectation in enumerate(data):\n",
    "    ax[N].set_xlabel(r\"Time ($µs$)\", fontsize=10)\n",
    "    ax[N].set_ylabel(r\"Probability of $|r\\rangle$\", fontsize=10)\n",
    "    ax[N].set_title(f\"Atoms per cluster N = {N+1}\", fontsize=12)\n",
    "    avg = sum(expectation) / groups\n",
    "    ax[N].plot(np.arange(len(avg)) / 1000, avg)"
   ]
  },
  {
   "cell_type": "markdown",
   "metadata": {},
   "source": [
    "Only one excitation will be shared between the atoms on each cluster. Notice how the Rabi frequency increases by a factor of $\\sqrt{N}$ "
   ]
  },
  {
   "cell_type": "markdown",
   "metadata": {},
   "source": [
    "## 2. Ordered Crystalline phases"
   ]
  },
  {
   "cell_type": "markdown",
   "metadata": {},
   "source": [
    "The pulse sequence that we will prepare is based on the following parameters:"
   ]
  },
  {
   "cell_type": "code",
   "execution_count": null,
   "metadata": {},
   "outputs": [],
   "source": [
    "# Parameters in rad/µs and ns\n",
    "delta_0 = -6 * 2 * np.pi\n",
    "delta_f = 10 * 2 * np.pi\n",
    "Omega_max = 2 * 2 * np.pi\n",
    "t_rise = 500\n",
    "t_stop = 4500"
   ]
  },
  {
   "cell_type": "markdown",
   "metadata": {},
   "source": [
    "We calculate the blockade radius from the maximal applied Rabi frequency:"
   ]
  },
  {
   "cell_type": "code",
   "execution_count": null,
   "metadata": {},
   "outputs": [],
   "source": [
    "R_blockade = MockDevice.rydberg_blockade_radius(Omega_max)\n",
    "a = 7.0\n",
    "\n",
    "reg = Register.rectangle(1, 11, spacing=a, prefix=\"q\")\n",
    "print(f\"Blockade Radius is: {R_blockade}µm.\")\n",
    "reg.draw(blockade_radius=R_blockade, draw_half_radius=True)"
   ]
  },
  {
   "cell_type": "markdown",
   "metadata": {},
   "source": [
    "Create the pulses using Pulser objects:"
   ]
  },
  {
   "cell_type": "code",
   "execution_count": null,
   "metadata": {},
   "outputs": [],
   "source": [
    "hold = ConstantWaveform(t_rise, delta_0)\n",
    "excite = RampWaveform(t_stop - t_rise, delta_0, delta_f)\n",
    "sweep = Pulse.ConstantAmplitude(\n",
    "    Omega_max, CompositeWaveform(hold, excite), 0.0\n",
    ")"
   ]
  },
  {
   "cell_type": "code",
   "execution_count": null,
   "metadata": {},
   "outputs": [],
   "source": [
    "seq = Sequence(reg, MockDevice)\n",
    "seq.declare_channel(\"ising\", \"rydberg_global\")\n",
    "\n",
    "seq.add(sweep, \"ising\")\n",
    "\n",
    "seq.draw()"
   ]
  },
  {
   "cell_type": "markdown",
   "metadata": {},
   "source": [
    "The pulse sequence we just created corresponds a path in the Phase space of the ground state, which we represent schematically with the following function:"
   ]
  },
  {
   "cell_type": "code",
   "execution_count": null,
   "metadata": {},
   "outputs": [],
   "source": [
    "def phase_diagram(seq):\n",
    "    ratio = []\n",
    "    for x in seq._schedule[\"ising\"]:\n",
    "        if isinstance(x.type, Pulse):\n",
    "            ratio += list(x.type.detuning.samples / Omega_max)\n",
    "\n",
    "    fig, ax = plt.subplots()\n",
    "    ax.grid(True, which=\"both\")\n",
    "\n",
    "    ax.set_ylabel(r\"Interaction Range $R_b/a$\", fontsize=14)\n",
    "    ax.set_xlabel(r\"Detuning $\\delta/\\Omega$\", fontsize=14)\n",
    "    ax.set_xlim(-4, 6)\n",
    "    ax.set_ylim(0, 3.2)\n",
    "    ax.axhline(y=0, color=\"k\")\n",
    "    ax.axvline(x=0, color=\"k\")\n",
    "\n",
    "    y = np.arange(0.0, 5, 0.01)\n",
    "    x = 2 * (0.6 + 8 * (y - 1.2) ** 2)\n",
    "    ax.fill_between(x, y, alpha=0.4)\n",
    "\n",
    "    y = np.arange(0.0, 5, 0.01)\n",
    "    x = 2 * (0.8 + 50 * (y - 2.45) ** 2)\n",
    "    ax.fill_between(x, y, alpha=0.4)\n",
    "\n",
    "    y = np.arange(0.0, 5, 0.01)\n",
    "    x = 2 * (1.0 + 170 * (y - 3.06) ** 2)\n",
    "    ax.fill_between(x, y, alpha=0.4)\n",
    "\n",
    "    ax.plot(np.array(ratio), np.full(len(ratio), R_blockade / a), \"red\", lw=2)\n",
    "    plt.show()"
   ]
  },
  {
   "cell_type": "code",
   "execution_count": null,
   "metadata": {},
   "outputs": [],
   "source": [
    "phase_diagram(seq)"
   ]
  },
  {
   "cell_type": "markdown",
   "metadata": {},
   "source": [
    "### 2.1 Simulation"
   ]
  },
  {
   "cell_type": "markdown",
   "metadata": {},
   "source": [
    "We run our simulation, for a list of observables corresponding to $|r\\rangle \\langle r|_j$ for each atom in the register:"
   ]
  },
  {
   "cell_type": "code",
   "execution_count": null,
   "metadata": {},
   "outputs": [],
   "source": [
    "simul = Simulation(seq, sampling_rate=0.1)\n",
    "\n",
    "occup_list = [occupation(reg, j) for j in range(len(reg.qubits))]\n",
    "\n",
    "res = simul.run(progress_bar=True)\n",
    "occupations = res.expect(occup_list)"
   ]
  },
  {
   "cell_type": "markdown",
   "metadata": {},
   "source": [
    "The following function plots the evolution of the expectation values with respect to time:"
   ]
  },
  {
   "cell_type": "code",
   "execution_count": null,
   "metadata": {},
   "outputs": [],
   "source": [
    "def plot_evolution(results):\n",
    "    plt.figure(figsize=(10, 5))\n",
    "    plt.xlabel(\"Time (µs)\", fontsize=14)\n",
    "    plt.ylabel(\"Rydberg Occupation Probabilty\", fontsize=14)\n",
    "    for expv in results:\n",
    "        plt.plot(np.arange(len(expv)) / 1000, expv)\n",
    "\n",
    "    plt.show()"
   ]
  },
  {
   "cell_type": "code",
   "execution_count": null,
   "metadata": {},
   "outputs": [],
   "source": [
    "plot_evolution(occupations)"
   ]
  },
  {
   "cell_type": "markdown",
   "metadata": {},
   "source": [
    "We finally plot the probability of occupation of the Rydberg level with respect to the values of detuning, for each atom in the array:"
   ]
  },
  {
   "cell_type": "code",
   "execution_count": null,
   "metadata": {},
   "outputs": [],
   "source": [
    "def heat_detuning(data, start, end):\n",
    "    N = len(reg.qubits)\n",
    "    time_window = []\n",
    "    x = []\n",
    "    detunings = simul.samples[\"Global\"][\"ground-rydberg\"][\"det\"][\n",
    "        [int(1000 * t) for t in simul.evaluation_times[:-1]]\n",
    "    ]\n",
    "\n",
    "    for t, d in enumerate(detunings):\n",
    "        if start <= d <= end:\n",
    "            time_window.append(t)\n",
    "            x.append(d / (2 * np.pi))\n",
    "\n",
    "    y = np.arange(1, N + 1)\n",
    "\n",
    "    X, Y = np.meshgrid(x, y)\n",
    "    Z = np.array(data)[:, time_window]\n",
    "\n",
    "    plt.figure(figsize=(14, 3))\n",
    "    plt.pcolormesh(X, Y, Z, cmap=\"hot\", shading=\"auto\")\n",
    "    plt.xlabel(\"Detuning/2π (MHz)\", fontsize=14)\n",
    "    plt.ylabel(\"Atom in array\", fontsize=14)\n",
    "    plt.yticks(range(1, N + 1), [f\"q{i}\" for i in range(N)], va=\"center\")\n",
    "    plt.colorbar(fraction=0.047, pad=0.015)\n",
    "\n",
    "    plt.show()"
   ]
  },
  {
   "cell_type": "code",
   "execution_count": null,
   "metadata": {},
   "outputs": [],
   "source": [
    "heat_detuning(occupations, delta_0, delta_f)"
   ]
  },
  {
   "cell_type": "markdown",
   "metadata": {},
   "source": [
    "### 2.2 Rydberg Crystals: $Z_3$ Order"
   ]
  },
  {
   "cell_type": "markdown",
   "metadata": {},
   "source": [
    "To arrive at a different phase, we reduce the interatomic distance $a$, thus increasing the interaction range between the atoms. This will lead to a $Z_3$ ordered phase: "
   ]
  },
  {
   "cell_type": "code",
   "execution_count": null,
   "metadata": {},
   "outputs": [],
   "source": [
    "a = 3.5\n",
    "reg = Register.rectangle(1, 10, spacing=a, prefix=\"q\")\n",
    "\n",
    "delta_0 = -4 * 2 * np.pi\n",
    "delta_f = 10 * 2 * np.pi\n",
    "Omega_max = 2.0 * 2 * np.pi  # btw 1.8-2 * 2pi MHz\n",
    "t_rise = 600\n",
    "t_stop = 2500\n",
    "R_blockade = MockDevice.rydberg_blockade_radius(Omega_max)\n",
    "reg.draw(blockade_radius=R_blockade, draw_half_radius=True)\n",
    "\n",
    "#\n",
    "hold = ConstantWaveform(t_rise, delta_0)\n",
    "excite = RampWaveform(t_stop - t_rise, delta_0, delta_f)\n",
    "sweep = Pulse.ConstantAmplitude(\n",
    "    Omega_max, CompositeWaveform(hold, excite), 0.0\n",
    ")\n",
    "#\n",
    "seq = Sequence(reg, MockDevice)\n",
    "seq.declare_channel(\"ising\", \"rydberg_global\")\n",
    "seq.add(sweep, \"ising\")\n",
    "\n",
    "phase_diagram(seq)\n",
    "\n",
    "simul = Simulation(seq, sampling_rate=0.1)\n",
    "\n",
    "occup_list = [occupation(reg, j) for j in range(simul._size)]\n",
    "\n",
    "res = simul.run(progress_bar=True, method=\"bdf\")\n",
    "\n",
    "occupations = res.expect(occup_list)\n",
    "\n",
    "plot_evolution(occupations)\n",
    "heat_detuning(occupations, delta_0, delta_f)"
   ]
  },
  {
   "cell_type": "markdown",
   "metadata": {},
   "source": [
    "### 2.3 Rydberg Crystals: $Z_4$ Order"
   ]
  },
  {
   "cell_type": "markdown",
   "metadata": {},
   "source": [
    "Decreasing even more the interatomic distance leads to a $Z_4$ order. The magnitude of the Rydberg interaction with respect to that of the applied pulses means our solver has to control terms with a wider range, thus leading to longer simulation times:"
   ]
  },
  {
   "cell_type": "code",
   "execution_count": null,
   "metadata": {},
   "outputs": [],
   "source": [
    "a = 2.8\n",
    "reg = Register.rectangle(1, 9, spacing=a, prefix=\"q\")\n",
    "\n",
    "# Parameters in rad/µs and ns\n",
    "\n",
    "delta_0 = -4 * 2 * np.pi\n",
    "delta_f = 10 * 2 * np.pi\n",
    "Omega_max = 2.0 * 2 * np.pi  # btw 1.8-2 2pi*MHz\n",
    "t_rise = 600\n",
    "t_stop = 2500\n",
    "R_blockade = MockDevice.rydberg_blockade_radius(Omega_max)\n",
    "reg.draw(blockade_radius=R_blockade, draw_half_radius=True)\n",
    "\n",
    "#\n",
    "hold = ConstantWaveform(t_rise, delta_0)\n",
    "excite = RampWaveform(t_stop - t_rise, delta_0, delta_f)\n",
    "sweep = Pulse.ConstantAmplitude(\n",
    "    Omega_max, CompositeWaveform(hold, excite), 0.0\n",
    ")\n",
    "\n",
    "#\n",
    "seq = Sequence(reg, MockDevice)\n",
    "seq.declare_channel(\"ising\", \"rydberg_global\")\n",
    "seq.add(sweep, \"ising\")\n",
    "\n",
    "phase_diagram(seq)\n",
    "\n",
    "simul = Simulation(seq, sampling_rate=0.2)\n",
    "\n",
    "occup_list = [occupation(reg, j) for j in range(len(reg.qubits))]\n",
    "\n",
    "#\n",
    "res = simul.run(progress_bar=True, method=\"bdf\")\n",
    "occupations = res.expect(occup_list)\n",
    "\n",
    "plot_evolution(occupations)\n",
    "heat_detuning(occupations, delta_0, delta_f)"
   ]
  },
  {
   "cell_type": "code",
   "execution_count": null,
   "metadata": {},
   "outputs": [],
   "source": []
  }
 ],
 "metadata": {
  "celltoolbar": "Raw Cell Format",
  "kernelspec": {
   "display_name": "Python 3.10.5 ('qc')",
   "language": "python",
   "name": "python3"
  },
  "language_info": {
   "codemirror_mode": {
    "name": "ipython",
    "version": 3
   },
   "file_extension": ".py",
   "mimetype": "text/x-python",
   "name": "python",
   "nbconvert_exporter": "python",
   "pygments_lexer": "ipython3",
   "version": "3.10.5"
  },
  "vscode": {
   "interpreter": {
    "hash": "4052f8a41a31fc5cbd2e3526dbc8abbffa51b82c1f3d5451a58f494cdae71e31"
   }
  }
 },
 "nbformat": 4,
 "nbformat_minor": 4
}
