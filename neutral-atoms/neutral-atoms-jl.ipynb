{
 "cells": [
  {
   "cell_type": "code",
   "execution_count": null,
   "metadata": {},
   "outputs": [],
   "source": [
    "using QuantumOptics"
   ]
  },
  {
   "cell_type": "code",
   "execution_count": null,
   "metadata": {},
   "outputs": [],
   "source": [
    "using QuantumOptics\n",
    "basis = PositionBasis(-2, 2, 200)\n",
    "x = position(basis)\n",
    "p = momentum(basis)\n",
    "H = p^2/4 + 2*DenseOperator(x^2)\n",
    "energies, states = eigenstates((H+dagger(H))/2, 5)\n",
    "\n",
    "using PyPlot\n",
    "xpoints = samplepoints(basis)\n",
    "plot(xpoints, 2*xpoints.^2)\n",
    "fill_between(xpoints, 0., 2*xpoints.^2, alpha=0.5)\n",
    "for i=1:length(states)\n",
    "    plot(xpoints, abs2.(states[i].data).*40 .+ energies[i])\n",
    "end\n",
    "xlabel(\"Position\")\n",
    "ylabel(\"Energy\")\n",
    "tight_layout()"
   ]
  },
  {
   "cell_type": "code",
   "execution_count": null,
   "metadata": {},
   "outputs": [],
   "source": []
  }
 ],
 "metadata": {
  "kernelspec": {
   "display_name": "Julia 1.7.2",
   "language": "julia",
   "name": "julia-1.7"
  },
  "language_info": {
   "file_extension": ".jl",
   "mimetype": "application/julia",
   "name": "julia",
   "version": "1.7.2"
  },
  "orig_nbformat": 4
 },
 "nbformat": 4,
 "nbformat_minor": 2
}
