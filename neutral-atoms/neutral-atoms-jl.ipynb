{
 "cells": [
  {
   "cell_type": "code",
   "execution_count": 1,
   "metadata": {},
   "outputs": [],
   "source": [
    "using QuantumOptics"
   ]
  },
  {
   "cell_type": "code",
   "execution_count": 2,
   "metadata": {},
   "outputs": [
    {
     "ename": "LoadError",
     "evalue": "InitError: could not load library \"/home/jchad/miniconda3/envs/qc/lib/libpython3.9.so.1.0\"\n/home/jchad/miniconda3/envs/qc/lib/libpython3.9.so.1.0: cannot open shared object file: No such file or directory\nduring initialization of module PyCall",
     "output_type": "error",
     "traceback": [
      "InitError: could not load library \"/home/jchad/miniconda3/envs/qc/lib/libpython3.9.so.1.0\"\n/home/jchad/miniconda3/envs/qc/lib/libpython3.9.so.1.0: cannot open shared object file: No such file or directory\nduring initialization of module PyCall",
      "",
      "Stacktrace:",
      "  [1] dlopen(s::String, flags::UInt32; throw_error::Bool)",
      "    @ Base.Libc.Libdl ./libdl.jl:117",
      "  [2] dlopen",
      "    @ ./libdl.jl:117 [inlined]",
      "  [3] __init__()",
      "    @ PyCall ~/.julia/packages/PyCall/7a7w0/src/pyinit.jl:149",
      "  [4] _include_from_serialized(path::String, depmods::Vector{Any})",
      "    @ Base ./loading.jl:768",
      "  [5] _require_search_from_serialized(pkg::Base.PkgId, sourcepath::String)",
      "    @ Base ./loading.jl:854",
      "  [6] _tryrequire_from_serialized(modkey::Base.PkgId, build_id::UInt64, modpath::String)",
      "    @ Base ./loading.jl:783",
      "  [7] _require_search_from_serialized(pkg::Base.PkgId, sourcepath::String)",
      "    @ Base ./loading.jl:843",
      "  [8] _require(pkg::Base.PkgId)",
      "    @ Base ./loading.jl:1097",
      "  [9] require(uuidkey::Base.PkgId)",
      "    @ Base ./loading.jl:1013",
      " [10] require(into::Module, mod::Symbol)",
      "    @ Base ./loading.jl:997",
      " [11] eval",
      "    @ ./boot.jl:373 [inlined]",
      " [12] include_string(mapexpr::typeof(REPL.softscope), mod::Module, code::String, filename::String)",
      "    @ Base ./loading.jl:1196"
     ]
    }
   ],
   "source": [
    "using QuantumOptics\n",
    "basis = PositionBasis(-2, 2, 200)\n",
    "x = position(basis)\n",
    "p = momentum(basis)\n",
    "H = p^2/4 + 2*DenseOperator(x^2)\n",
    "energies, states = eigenstates((H+dagger(H))/2, 5)\n",
    "\n",
    "using PyPlot\n",
    "xpoints = samplepoints(basis)\n",
    "plot(xpoints, 2*xpoints.^2)\n",
    "fill_between(xpoints, 0., 2*xpoints.^2, alpha=0.5)\n",
    "for i=1:length(states)\n",
    "    plot(xpoints, abs2.(states[i].data).*40 .+ energies[i])\n",
    "end\n",
    "xlabel(\"Position\")\n",
    "ylabel(\"Energy\")\n",
    "tight_layout()"
   ]
  },
  {
   "cell_type": "code",
   "execution_count": null,
   "metadata": {},
   "outputs": [],
   "source": []
  }
 ],
 "metadata": {
  "kernelspec": {
   "display_name": "Julia 1.7.2",
   "language": "julia",
   "name": "julia-1.7"
  },
  "language_info": {
   "file_extension": ".jl",
   "mimetype": "application/julia",
   "name": "julia",
   "version": "1.7.2"
  },
  "orig_nbformat": 4
 },
 "nbformat": 4,
 "nbformat_minor": 2
}
