{
 "cells": [
  {
   "cell_type": "markdown",
   "id": "2702418b",
   "metadata": {},
   "source": [
    "# Simulation with Noise and Errors"
   ]
  },
  {
   "cell_type": "markdown",
   "id": "1cd7aad3",
   "metadata": {},
   "source": [
    "## Introduction\n",
    "$\\newcommand{\\Ket}[1]{\\left|#1\\right>} \\newcommand{\\Bra}[1]{\\left<#1\\right|}$\n",
    "This notebook gives an overview of how to simulate several kinds of noise in Pulser. Quantum computers aren't perfect and are susceptible to various sources of noise. In order to realistically simulate these quantum computations, we need to take them into account.\n",
    "\n",
    "As of now, the types of noise implemented in Pulser are:\n",
    "\n",
    "- SPAM (State Preparation And Measurement) errors : There are three types of such errors, one (with probability $\\eta$) related to bad initial state preparation of the all-ground state $\\Ket{g}^{\\otimes n}$, and two (with probabilities $\\epsilon, \\epsilon '$) linked to detection errors. During the imaging process, excited Rydberg atoms in $\\Ket{r}$ might decay to the state $\\Ket{g}$, allowing them to be trapped in the tweezers : those are the false negatives modeled by $\\epsilon'$. On the contrary, some atoms in $\\Ket{g}$ might get excited due to various causes (collisions...) and tweezer recapture might fail, inferring them incorrectly as atoms in $\\Ket{r}$ : those are the false positives modeled by $\\epsilon$.\n",
    "\n",
    "- Doppler damping : The atoms in the register are cooled to a temperature $T \\sim 50\\mu K$, which is low but still non-zero. Therefore, the laser frequency they observe is shifted by Doppler shifting due to thermal motion. This corresponds to a shift in the detuning frequency of the laser, and leads to a damping in the Rydberg population.\n",
    "\n",
    "- Waist of the laser : For global pulses, the laser amplitude has a Gaussian profile and atoms at the border of the waist feel a slightly lower amplitude than those at the focus.\n",
    "\n",
    "- Dephasing / phase-damping: Each qubit interacts with its environment, and we can model this interaction with random $Z$-rotations on each qubit. Given a dephasing probability $p$, this noise model adds two collapse operators $M_0 = \\sqrt{1-\\frac{p}{2}} \\times \\mathbb{1}$, $M_1 = \\sqrt{\\frac{p}{2}} \\sigma_z = \\sqrt{\\frac{p}{2}} (\\Ket{r}\\Bra{r} - \\Ket{g}\\Bra{g})$ and forces the solver to adopt a density matrix formalism. See [here](https://ocw.mit.edu/courses/nuclear-engineering/22-51-quantum-theory-of-radiation-interactions-fall-2012/lecture-notes/MIT22_51F12_Ch8.pdf) for a more thorough explanation.\n"
   ]
  },
  {
   "cell_type": "code",
   "execution_count": null,
   "id": "36c9de14",
   "metadata": {},
   "outputs": [],
   "source": [
    "import numpy as np\n",
    "import matplotlib.pyplot as plt\n",
    "import qutip\n",
    "\n",
    "from pulser import Register, Pulse, Sequence, Simulation\n",
    "from pulser_simulation import SimConfig\n",
    "from pulser.devices import Chadoq2\n",
    "from pulser.waveforms import ConstantWaveform, RampWaveform"
   ]
  },
  {
   "cell_type": "markdown",
   "id": "05345ad7",
   "metadata": {},
   "source": [
    "## Single atom noisy simulations"
   ]
  },
  {
   "cell_type": "markdown",
   "id": "dd1b7723",
   "metadata": {},
   "source": [
    "### Sequence preparation"
   ]
  },
  {
   "cell_type": "markdown",
   "id": "11c2fa97",
   "metadata": {},
   "source": [
    "Prepare a single atom:"
   ]
  },
  {
   "cell_type": "code",
   "execution_count": null,
   "id": "c27dba47",
   "metadata": {},
   "outputs": [],
   "source": [
    "reg = Register.from_coordinates([(0, 0)], prefix=\"q\")"
   ]
  },
  {
   "cell_type": "markdown",
   "id": "3d5976ac",
   "metadata": {},
   "source": [
    "Act on this atom with a Constant Pulse, such that it oscillates towards the excited Rydberg state and back to the original state (Rabi oscillations):"
   ]
  },
  {
   "cell_type": "code",
   "execution_count": null,
   "id": "b6f790dd",
   "metadata": {
    "scrolled": true
   },
   "outputs": [],
   "source": [
    "seq = Sequence(reg, Chadoq2)\n",
    "seq.declare_channel(\"ch0\", \"rydberg_global\")\n",
    "duration = 2500\n",
    "pulse = Pulse.ConstantPulse(duration, 2 * np.pi, 0.0, 0.0)\n",
    "seq.add(pulse, \"ch0\")\n",
    "seq.draw()"
   ]
  },
  {
   "cell_type": "markdown",
   "id": "3d27ff73",
   "metadata": {},
   "source": [
    "We now run the noiseless simulation, to obtain a `CoherentResults` object in `clean_res`."
   ]
  },
  {
   "cell_type": "code",
   "execution_count": null,
   "id": "473bd0dc",
   "metadata": {},
   "outputs": [],
   "source": [
    "sim = Simulation(seq, sampling_rate=0.05)\n",
    "clean_res = sim.run()"
   ]
  },
  {
   "cell_type": "markdown",
   "id": "d2c2f5df",
   "metadata": {},
   "source": [
    "Here we obtain the excited population using the projector onto the Rydberg state."
   ]
  },
  {
   "cell_type": "code",
   "execution_count": null,
   "id": "0a0fbcae",
   "metadata": {},
   "outputs": [],
   "source": [
    "obs = qutip.basis(2, 0).proj()"
   ]
  },
  {
   "cell_type": "code",
   "execution_count": null,
   "id": "476cfb3c",
   "metadata": {},
   "outputs": [],
   "source": [
    "plt.plot(clean_res._sim_times, clean_res.expect([obs])[0])\n",
    "plt.show()"
   ]
  },
  {
   "cell_type": "markdown",
   "id": "015188a1",
   "metadata": {},
   "source": [
    "### The SimConfig object"
   ]
  },
  {
   "cell_type": "markdown",
   "id": "4f193d60",
   "metadata": {},
   "source": [
    "Each simulation has an associated `SimConfig` object, which encapsulates parameters such as noise types, the temperature of the register... You may view it at any time using the following command."
   ]
  },
  {
   "cell_type": "code",
   "execution_count": null,
   "id": "24c96faa",
   "metadata": {},
   "outputs": [],
   "source": [
    "sim.show_config()"
   ]
  },
  {
   "cell_type": "markdown",
   "id": "b22ab21b",
   "metadata": {},
   "source": [
    "When creating a new `SimConfig`, you may choose several parameters. `'runs'` indicates the number of times a noisy simulation is run to obtain the average result of several simulations, `'samples_per_run'` is the number of delivered samples per run - this has no physical interpretation, this is used simply to cut down on calculation time."
   ]
  },
  {
   "cell_type": "markdown",
   "id": "f1c3b128",
   "metadata": {},
   "source": [
    "We will also add `SPAM` noise to the simulation by creating a new `SimConfig` object, and assigning it to the `config` field of `sim` via the `Simulation.set_config` setter. We pass noise types as a tuple of strings to a SimConfig object. Possible strings are : `'SPAM', 'dephasing', 'doppler', 'amplitude'`."
   ]
  },
  {
   "cell_type": "code",
   "execution_count": null,
   "id": "fce9a8c6",
   "metadata": {},
   "outputs": [],
   "source": [
    "config_spam = SimConfig(noise=(\"SPAM\"), runs=30, samples_per_run=5)\n",
    "sim.set_config(config_spam)"
   ]
  },
  {
   "cell_type": "markdown",
   "id": "fbb887b7",
   "metadata": {},
   "source": [
    "We now show the new configuration to have an overview of the changes we made."
   ]
  },
  {
   "cell_type": "code",
   "execution_count": null,
   "id": "26a2b89c",
   "metadata": {},
   "outputs": [],
   "source": [
    "sim.show_config()"
   ]
  },
  {
   "cell_type": "markdown",
   "id": "ccb66fe8",
   "metadata": {},
   "source": [
    "Note that `SimConfig.spam_dict` is the spam parameters dictionary. `eta` is the probability of a badly prepared state, `epsilon` the false positive probability, `epsilon_prime` the false negative one."
   ]
  },
  {
   "cell_type": "markdown",
   "id": "d24096da",
   "metadata": {},
   "source": [
    "When dealing with a `SimConfig` object with different noise parameters from the config in `Simulation.config`, you may \"add\" both configurations together, obtaining a single `SimConfig` with all noises from both configurations - on the other hand, the `runs` and `samples_per_run` will always be updated. This adds simulation parameters to noises that weren't available in the former `Simulation.config`. Noises specified in both `SimConfigs` will keep the noise parameters in `Simulation.config`. Try it out with `Simulation.add_config`:"
   ]
  },
  {
   "cell_type": "code",
   "execution_count": null,
   "id": "e1ed3b22",
   "metadata": {},
   "outputs": [],
   "source": [
    "cfg2 = SimConfig(\n",
    "    noise=(\"SPAM\", \"dephasing\", \"doppler\"),\n",
    "    eta=0.8,\n",
    "    temperature=1000,\n",
    "    runs=50,\n",
    ")\n",
    "sim.add_config(cfg2)\n",
    "sim.show_config()"
   ]
  },
  {
   "cell_type": "markdown",
   "id": "05362a66",
   "metadata": {},
   "source": [
    "Note that we set the temperature in $\\mu K$. We also observe that the `eta` parameter wasn't changed, since both `SimConfig` objects had `'SPAM'` as a noise model already. This feature might be useful when running several simulations with distinct noise parameters to observe the influence of each noise independtly, then wanting to combine noises together without losing your tailored noise parameters."
   ]
  },
  {
   "cell_type": "markdown",
   "id": "a019dfdb",
   "metadata": {},
   "source": [
    "### Setting evaluation times"
   ]
  },
  {
   "cell_type": "markdown",
   "id": "1da516f4",
   "metadata": {},
   "source": [
    "As a `Simulation` field, `eval_times` refers to the times at which the result have to be returned. Choose `'Full'` for all the times the Hamiltonian has been sampled in the sequence, a list of times of your choice (has to be a subset of all times in the simulation), or a real number between $0$ and $1$ to sample the full return times array. Here, we choose to keep $\\frac{8}{10}$ of the Hamiltonian sample times for our evaluation times."
   ]
  },
  {
   "cell_type": "code",
   "execution_count": null,
   "id": "8f3b1ef7",
   "metadata": {},
   "outputs": [],
   "source": [
    "sim.evaluation_times = 0.8"
   ]
  },
  {
   "cell_type": "markdown",
   "id": "4f465a10",
   "metadata": {},
   "source": [
    "We now obtain a `NoisyResults` object from our noisy simulation. This object represents the final result as a probability distribution over the sampled bitstrings, rather than a quantum state `QObj` in the `CleanResults` case."
   ]
  },
  {
   "cell_type": "code",
   "execution_count": null,
   "id": "8e1005fb",
   "metadata": {},
   "outputs": [],
   "source": [
    "res = sim.run()"
   ]
  },
  {
   "cell_type": "markdown",
   "id": "59c48b9b",
   "metadata": {},
   "source": [
    "### Plotting noisy and clean results"
   ]
  },
  {
   "cell_type": "markdown",
   "id": "ea5fd777",
   "metadata": {},
   "source": [
    "The new `res` instance has similar methods to the usual `SimResults` object. For example, we can calculate expectation values. Observe how different the Rydberg population in the clean case and noisy case are : we clearly see a damping due to all the noises we added."
   ]
  },
  {
   "cell_type": "code",
   "execution_count": null,
   "id": "5e6b3a45",
   "metadata": {},
   "outputs": [],
   "source": [
    "plt.plot(res._sim_times, res.expect([obs])[0])\n",
    "plt.plot(clean_res._sim_times, clean_res.expect([obs])[0])\n",
    "plt.show()"
   ]
  },
  {
   "cell_type": "markdown",
   "id": "52c03ef1",
   "metadata": {},
   "source": [
    "You can also use the `SimResults.plot(obs)` method to plot expectation values of a given observable. Here we compute the `sigma_z` local operator expectation values. You may choose to add error bars using the argument `error_bars = True` (`True` by default for `NoisyResults`.) Be wary that computing the expectation value of non-diagonal operators will raise an error, as `NoisyResults` bitstrings are already projected on the $Z$ basis."
   ]
  },
  {
   "cell_type": "code",
   "execution_count": null,
   "id": "db4da099",
   "metadata": {
    "scrolled": true
   },
   "outputs": [],
   "source": [
    "res.plot(obs, fmt=\".\")\n",
    "plt.show()"
   ]
  },
  {
   "cell_type": "code",
   "execution_count": null,
   "id": "d0b08433",
   "metadata": {},
   "outputs": [],
   "source": [
    "res.plot(obs, error_bars=False, fmt=\".\")"
   ]
  },
  {
   "cell_type": "markdown",
   "id": "e7a5fe0c",
   "metadata": {},
   "source": [
    "## SPAM effects"
   ]
  },
  {
   "cell_type": "markdown",
   "id": "bc620825",
   "metadata": {},
   "source": [
    "Compare both clean and noisy simulations for the default SPAM parameters (taken from [De Léséleuc, et al., 2018](https://arxiv.org/abs/1802.10424))"
   ]
  },
  {
   "cell_type": "code",
   "execution_count": null,
   "id": "85e2a908",
   "metadata": {
    "scrolled": true
   },
   "outputs": [],
   "source": [
    "sim.set_config(config_spam)\n",
    "sim.evaluation_times = 0.4\n",
    "res_spam = sim.run()\n",
    "res_spam.plot(obs)\n",
    "sim.reset_config()\n",
    "sim.eval_times = \"Full\"\n",
    "res_clean = sim.run()\n",
    "res_clean.plot(obs)\n",
    "plt.show()"
   ]
  },
  {
   "cell_type": "markdown",
   "id": "c870a1c7",
   "metadata": {},
   "source": [
    "We will now modify the *SPAM* dictionary, as below, allowing for more ($40$%) badly prepared atoms."
   ]
  },
  {
   "cell_type": "code",
   "execution_count": null,
   "id": "0ac70fe1",
   "metadata": {},
   "outputs": [],
   "source": [
    "config_spam_mod = SimConfig(noise=(\"SPAM\"), eta=0.4, runs=100)\n",
    "sim.set_config(config_spam_mod)\n",
    "sim.evaluation_times = 0.5\n",
    "res_large_eta = sim.run()\n",
    "res_large_eta.plot(obs)"
   ]
  },
  {
   "cell_type": "markdown",
   "id": "3b6aebd1",
   "metadata": {},
   "source": [
    "We can see here that the population doesn't go well above $0.6 = 1 - \\eta$, which is to be expected : badly prepared atoms don't reach state $\\Ket{r}$. We can expect this limit of $0.6$ in the Rydberg population to be more and more respected as the number of runs grows."
   ]
  },
  {
   "cell_type": "markdown",
   "id": "820fd386",
   "metadata": {},
   "source": [
    "### Changing $\\eta$"
   ]
  },
  {
   "cell_type": "markdown",
   "id": "0cddf4d4",
   "metadata": {},
   "source": [
    "Let us first initialize all spam error values to $0$. Then, we do a sweep over the parameter $\\eta$, probability of badly prepared states, to notice its effects."
   ]
  },
  {
   "cell_type": "code",
   "execution_count": null,
   "id": "935c76c7",
   "metadata": {},
   "outputs": [],
   "source": [
    "plt.figure(figsize=(10, 5))\n",
    "res_clean.plot(obs)\n",
    "for eta in np.linspace(0, 0.99, 4):\n",
    "    config_spam_eta = SimConfig(\n",
    "        noise=\"SPAM\", eta=eta, runs=50, epsilon=0, epsilon_prime=0\n",
    "    )\n",
    "    sim.set_config(config_spam_eta)\n",
    "    sim.run().plot(obs, label=f\"eta = {eta}\")\n",
    "plt.legend()\n",
    "plt.show()"
   ]
  },
  {
   "cell_type": "markdown",
   "id": "e7ff7f91",
   "metadata": {},
   "source": [
    "As $\\eta$ grows, more qubits are not well-prepared (i.e, pumped into a state different from $\\Ket{g}$) and we stop seeing occupations at all. You may increase the number of runs to smooth the curves."
   ]
  },
  {
   "cell_type": "markdown",
   "id": "9ee85839",
   "metadata": {},
   "source": [
    "### Changing $\\epsilon$"
   ]
  },
  {
   "cell_type": "markdown",
   "id": "21b4fc04",
   "metadata": {},
   "source": [
    "Let's now run a sweep over $\\epsilon$."
   ]
  },
  {
   "cell_type": "code",
   "execution_count": null,
   "id": "66819810",
   "metadata": {},
   "outputs": [],
   "source": [
    "plt.figure(figsize=(10, 5))\n",
    "res_clean.plot(obs)\n",
    "for eps in np.linspace(0, 0.99, 4):\n",
    "    config_spam_eps = SimConfig(\n",
    "        noise=\"SPAM\", eta=0, runs=50, epsilon=eps, epsilon_prime=0\n",
    "    )\n",
    "    sim.set_config(config_spam_eps)\n",
    "    sim.run().plot(obs, label=f\"epsilon = {eps}\")\n",
    "plt.legend()\n",
    "plt.show()"
   ]
  },
  {
   "cell_type": "markdown",
   "id": "5d068dc7",
   "metadata": {},
   "source": [
    "As more false positives appear, it looks like the system is never captured, so always in a Rydberg state. Note that when $\\eta=0$, the object we obtain is a `CoherentResults` rather than a `NoisyResults`, since in this case, the randomness comes from measurements and the simulation is entirely deterministic. This results in smooth curves rather than scattered dots."
   ]
  },
  {
   "cell_type": "markdown",
   "id": "f10c7940",
   "metadata": {},
   "source": [
    "### Changing $\\epsilon'$"
   ]
  },
  {
   "cell_type": "markdown",
   "id": "9b90ac9b",
   "metadata": {},
   "source": [
    "Finally, we run a sweep over $\\epsilon'$."
   ]
  },
  {
   "cell_type": "code",
   "execution_count": null,
   "id": "2fce25ee",
   "metadata": {},
   "outputs": [],
   "source": [
    "plt.figure(figsize=(10, 5))\n",
    "res_clean.plot(obs)\n",
    "for eps_p in np.linspace(0, 0.99, 4):\n",
    "    config_spam_eps_p = SimConfig(\n",
    "        noise=\"SPAM\", eta=0, runs=50, epsilon=0, epsilon_prime=eps_p\n",
    "    )\n",
    "    sim.set_config(config_spam_eps_p)\n",
    "    sim.run().plot(obs, label=f\"epsilon = {eps_p}\")\n",
    "plt.legend()\n",
    "plt.show()"
   ]
  },
  {
   "cell_type": "markdown",
   "id": "205b4b91",
   "metadata": {},
   "source": [
    "As there are more false negatives, all atoms seem to be recaptured, until no Rydberg occupation is detected."
   ]
  },
  {
   "cell_type": "markdown",
   "id": "8c92a41d",
   "metadata": {},
   "source": [
    "## Doppler Noise"
   ]
  },
  {
   "cell_type": "markdown",
   "id": "2b0b1c87",
   "metadata": {},
   "source": [
    "As for any noise, Doppler noise is set via a `SimConfig` object. When averaging over several runs, it has the effect of damping the oscillations. Let's increase the number of runs in order to see this and get smoother curves."
   ]
  },
  {
   "cell_type": "markdown",
   "id": "535746be",
   "metadata": {},
   "source": [
    "Note that you may change the standard deviation of the doppler noise, which is $k \\times \\sqrt{k_B T / m}$, where $k$ is the norm of the effective wavevector of the lasers, by changing the temperature field, setting it in $\\mu K$. We'll exaggerate the temperature field here to emphasize the effects of Doppler damping; the default value for temperature is 50$\\mu K$."
   ]
  },
  {
   "cell_type": "code",
   "execution_count": null,
   "id": "0b225d80",
   "metadata": {},
   "outputs": [],
   "source": [
    "config_doppler = SimConfig(\n",
    "    noise=\"doppler\", runs=100, temperature=5000, samples_per_run=1\n",
    ")\n",
    "sim.set_config(config_doppler)\n",
    "sim.show_config()"
   ]
  },
  {
   "cell_type": "markdown",
   "id": "072e840a",
   "metadata": {},
   "source": [
    "Let us now simulate the entire sequence with Doppler noise, much like what we did in the SPAM case. We should see damped oscillations if the standard deviation is high enough. This is the case here, as we exaggerated the temperature field."
   ]
  },
  {
   "cell_type": "code",
   "execution_count": null,
   "id": "49d217a7",
   "metadata": {},
   "outputs": [],
   "source": [
    "res_clean.plot(obs)\n",
    "res_doppler = sim.run()\n",
    "res_doppler.plot(obs)\n",
    "plt.show()"
   ]
  },
  {
   "cell_type": "markdown",
   "id": "1967698a",
   "metadata": {},
   "source": [
    "## Multiple Atoms"
   ]
  },
  {
   "cell_type": "markdown",
   "id": "586f9559",
   "metadata": {},
   "source": [
    "We will now run the AFM preparation sequence from the Pulser tutorial with our noise models, and compare the results to the clean case. \n",
    "\n",
    "Note: We will not include dephasing / phase-damping, as the number of qubits ($9$ here) is too large and slows down the simulation, since the solver has to work with $2^9 \\times 2^9$-dimensional matrices instead of $2^9$-dimensional kets."
   ]
  },
  {
   "cell_type": "code",
   "execution_count": null,
   "id": "3a2d9670",
   "metadata": {},
   "outputs": [],
   "source": [
    "# Parameters in rad/µs and ns\n",
    "Omega_max = 2.3 * 2 * np.pi\n",
    "U = Omega_max / 2.3\n",
    "delta_0 = -6 * U\n",
    "delta_f = 2 * U\n",
    "t_rise = 252\n",
    "t_fall = 500\n",
    "t_sweep = (delta_f - delta_0) / (2 * np.pi * 10) * 1000\n",
    "R_interatomic = Chadoq2.rydberg_blockade_radius(U)\n",
    "\n",
    "N_side = 3\n",
    "reg = Register.rectangle(N_side, N_side, R_interatomic, prefix=\"q\")\n",
    "\n",
    "rise = Pulse.ConstantDetuning(\n",
    "    RampWaveform(t_rise, 0.0, Omega_max), delta_0, 0.0\n",
    ")\n",
    "sweep = Pulse.ConstantAmplitude(\n",
    "    Omega_max, RampWaveform(t_sweep, delta_0, delta_f), 0.0\n",
    ")\n",
    "fall = Pulse.ConstantDetuning(\n",
    "    RampWaveform(t_fall, Omega_max, 0.0), delta_f, 0.0\n",
    ")\n",
    "\n",
    "seq = Sequence(reg, Chadoq2)\n",
    "seq.declare_channel(\"ising\", \"rydberg_global\")\n",
    "\n",
    "seq.add(rise, \"ising\")\n",
    "seq.add(sweep, \"ising\")\n",
    "seq.add(fall, \"ising\")"
   ]
  },
  {
   "cell_type": "code",
   "execution_count": null,
   "id": "e6e0e2ef",
   "metadata": {},
   "outputs": [],
   "source": [
    "config_all_noise = SimConfig(\n",
    "    noise=(\"SPAM\", \"doppler\", \"amplitude\"), runs=100, samples_per_run=10\n",
    ")\n",
    "simul = Simulation(\n",
    "    seq, sampling_rate=0.05, evaluation_times=0.2, config=config_all_noise\n",
    ")\n",
    "spam_results = simul.run()\n",
    "simul.reset_config()\n",
    "clean_results = simul.run()"
   ]
  },
  {
   "cell_type": "markdown",
   "id": "53073e7d",
   "metadata": {},
   "source": [
    "We now plot the simulation results by sampling the final states."
   ]
  },
  {
   "cell_type": "code",
   "execution_count": null,
   "id": "98b3b230",
   "metadata": {},
   "outputs": [],
   "source": [
    "plt.figure(figsize=(20, 5))\n",
    "spam_count = spam_results.sample_final_state(N_samples=1e5)\n",
    "clean_count = clean_results.sample_final_state(N_samples=1e5)\n",
    "\n",
    "clean_most_freq = {k: v for k, v in clean_count.items() if v > 500}\n",
    "spam_most_freq = {k: v for k, v in spam_count.items() if v > 500}\n",
    "\n",
    "plt.bar(\n",
    "    list(clean_most_freq.keys()), list(clean_most_freq.values()), width=0.9\n",
    ")\n",
    "plt.bar(list(spam_most_freq.keys()), list(spam_most_freq.values()), width=0.5)\n",
    "\n",
    "plt.xticks(rotation=\"vertical\")\n",
    "plt.show()"
   ]
  },
  {
   "cell_type": "markdown",
   "id": "2684304a",
   "metadata": {},
   "source": [
    "The bars represent the simulation results as populations of bitstrings. They're colored blue for the noiseless simulation, and orange for the noisy one. We clearly identify the antiferromagnetic state as the most populated one in both cases, but it is slightly less populated in the noisy case, while some other bitstrings, not present in the noiseless case, appear."
   ]
  }
 ],
 "metadata": {
  "kernelspec": {
   "display_name": "Python 3.10.5 ('qc')",
   "language": "python",
   "name": "python3"
  },
  "language_info": {
   "codemirror_mode": {
    "name": "ipython",
    "version": 3
   },
   "file_extension": ".py",
   "mimetype": "text/x-python",
   "name": "python",
   "nbconvert_exporter": "python",
   "pygments_lexer": "ipython3",
   "version": "3.10.5"
  },
  "vscode": {
   "interpreter": {
    "hash": "4052f8a41a31fc5cbd2e3526dbc8abbffa51b82c1f3d5451a58f494cdae71e31"
   }
  }
 },
 "nbformat": 4,
 "nbformat_minor": 5
}
