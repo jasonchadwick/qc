{
 "cells": [
  {
   "cell_type": "code",
   "execution_count": null,
   "metadata": {},
   "outputs": [
    {
     "ename": "",
     "evalue": "",
     "output_type": "error",
     "traceback": [
      "\u001b[1;31mFailed to start the Kernel. \n",
      "Traceback (most recent call last):\n",
      "  File \"/home/jchad/.vscode/extensions/ms-toolsai.jupyter-2022.5.1001601848/pythonFiles/vscode_datascience_helpers/jupyter_daemon.py\", line 158, in _start_notebook\n",
      "    from notebook import notebookapp as app\n",
      "  File \"/home/jchad/.local/lib/python3.10/site-packages/notebook/notebookapp.py\", line 79, in <module>\n",
      "    from .services.contents.manager import ContentsManager\n",
      "  File \"/home/jchad/.local/lib/python3.10/site-packages/notebook/services/contents/manager.py\", line 17, in <module>\n",
      "    from nbformat import sign, validate as validate_nb, ValidationError\n",
      "  File \"/home/jchad/.local/lib/python3.10/site-packages/nbformat/__init__.py\", line 11, in <module>\n",
      "    from . import v1, v2, v3, v4\n",
      "  File \"/home/jchad/.local/lib/python3.10/site-packages/nbformat/v4/__init__.py\", line 39, in <module>\n",
      "    from .convert import downgrade, upgrade\n",
      "  File \"/home/jchad/.local/lib/python3.10/site-packages/nbformat/v4/convert.py\", line 13, in <module>\n",
      "    from .. import validator\n",
      "  File \"/home/jchad/.local/lib/python3.10/site-packages/nbformat/validator.py\", line 13, in <module>\n",
      "    from .json_compat import ValidationError, _validator_for_name, get_current_validator\n",
      "  File \"/home/jchad/.local/lib/python3.10/site-packages/nbformat/json_compat.py\", line 11, in <module>\n",
      "    import jsonschema\n",
      "  File \"/home/jchad/.local/lib/python3.10/site-packages/jsonschema/__init__.py\", line 12, in <module>\n",
      "    from jsonschema._format import (\n",
      "  File \"/home/jchad/.local/lib/python3.10/site-packages/jsonschema/_format.py\", line 10, in <module>\n",
      "    from jsonschema.exceptions import FormatError\n",
      "  File \"/home/jchad/.local/lib/python3.10/site-packages/jsonschema/exceptions.py\", line 11, in <module>\n",
      "    import attr\n",
      "ModuleNotFoundError: No module named 'attr'\n",
      "\n",
      "During handling of the above exception, another exception occurred:\n",
      "\n",
      "Traceback (most recent call last):\n",
      "  File \"/home/jchad/.vscode/extensions/ms-toolsai.jupyter-2022.5.1001601848/pythonFiles/vscode_datascience_helpers/daemon/daemon_python.py\", line 54, in _decorator\n",
      "    return func(self, *args, **kwargs)\n",
      "  File \"/home/jchad/.vscode/extensions/ms-toolsai.jupyter-2022.5.1001601848/pythonFiles/vscode_datascience_helpers/jupyter_daemon.py\", line 111, in m_exec_module_observable\n",
      "    self._start_notebook(args, cwd, env)\n",
      "  File \"/home/jchad/.vscode/extensions/ms-toolsai.jupyter-2022.5.1001601848/pythonFiles/vscode_datascience_helpers/jupyter_daemon.py\", line 160, in _start_notebook\n",
      "    from notebook import app as app\n",
      "ImportError: cannot import name 'app' from 'notebook' (/home/jchad/.local/lib/python3.10/site-packages/notebook/__init__.py)\n",
      "\n",
      "Failed to run jupyter as observable with args notebook --no-browser --notebook-dir=\"/home/jchad/projects/qcsim\" --config=/tmp/3bc48fd9-4634-4818-81c4-6e43d1ba5fcd/jupyter_notebook_config.py --NotebookApp.iopub_data_rate_limit=10000000000.0. \n",
      "View Jupyter <a href='command:jupyter.viewOutput'>log</a> for further details."
     ]
    }
   ],
   "source": [
    "import cirq"
   ]
  },
  {
   "cell_type": "code",
   "execution_count": 2,
   "metadata": {},
   "outputs": [
    {
     "name": "stdout",
     "output_type": "stream",
     "text": [
      "(0, 0): ───H───M('m')───\n"
     ]
    },
    {
     "data": {
      "text/plain": [
       "m=1110111101011000001011001101011001011011010110100011101100100000010100110101100111000000001101110000"
      ]
     },
     "execution_count": 2,
     "metadata": {},
     "output_type": "execute_result"
    }
   ],
   "source": [
    "q = cirq.GridQubit(0, 0)\n",
    "\n",
    "circuit = cirq.Circuit(\n",
    "    cirq.H(q),\n",
    "    cirq.measure(q, key='m')\n",
    ")\n",
    "print(circuit)\n",
    "\n",
    "sim = cirq.Simulator()\n",
    "res = sim.run(circuit, repetitions=100)\n",
    "res"
   ]
  },
  {
   "cell_type": "code",
   "execution_count": null,
   "metadata": {},
   "outputs": [],
   "source": []
  }
 ],
 "metadata": {
  "kernelspec": {
   "display_name": "Python 3.10.5",
   "language": "python",
   "name": "python3"
  },
  "language_info": {
   "codemirror_mode": {
    "name": "ipython",
    "version": 3
   },
   "file_extension": ".py",
   "mimetype": "text/x-python",
   "name": "python",
   "nbconvert_exporter": "python",
   "pygments_lexer": "ipython3",
   "version": "3.10.5"
  },
  "vscode": {
   "interpreter": {
    "hash": "4052f8a41a31fc5cbd2e3526dbc8abbffa51b82c1f3d5451a58f494cdae71e31"
   }
  }
 },
 "nbformat": 4,
 "nbformat_minor": 4
}
