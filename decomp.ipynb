{
 "cells": [
  {
   "cell_type": "code",
   "execution_count": 1,
   "metadata": {},
   "outputs": [],
   "source": [
    "from qiskit import *\n",
    "from qiskit import QuantumCircuit, Aer\n",
    "import sympy\n",
    "import numpy as np\n",
    "from scipy import linalg\n",
    "from functools import reduce\n",
    "import itertools\n",
    "\n",
    "import utils.idx as idx\n",
    "import decomp"
   ]
  },
  {
   "cell_type": "code",
   "execution_count": 2,
   "metadata": {},
   "outputs": [],
   "source": [
    "X = np.array([[0, 1], [1, 0]])\n",
    "Y = np.array([[0, -1j], [1j, 0]])\n",
    "Z = np.array([[1, 0], [0, -1]])\n",
    "r2 = 1/np.sqrt(2)\n",
    "H = np.array([[r2, r2], [r2, -r2]])\n",
    "i2 = np.array([[1, 0], [0, 1]])"
   ]
  },
  {
   "cell_type": "code",
   "execution_count": 3,
   "metadata": {},
   "outputs": [
    {
     "name": "stdout",
     "output_type": "stream",
     "text": [
      "Number of ops: 3\n",
      "Fidelity: 0.9999541762644178\n"
     ]
    }
   ],
   "source": [
    "nbits = 3\n",
    "a = np.random.random((2**nbits,2**nbits)) + 1j*np.random.random((2**nbits,2**nbits))\n",
    "u,_ = np.linalg.qr(a)\n",
    "d = decomp.factor(\"QASMBench/small/dnn_n2/dnn_n2.qasm\")"
   ]
  },
  {
   "cell_type": "code",
   "execution_count": 4,
   "metadata": {},
   "outputs": [
    {
     "data": {
      "text/latex": [
       "$\\displaystyle \\left[\\begin{matrix}0.901863369781848 & 0 & -0.432021367811512 & 0\\\\0 & 0.704851690032635 & 0 & -0.709354703274841\\\\0.432021367811512 & 0 & 0.901863369781848 & 0\\\\0 & 0.709354703274841 & 0 & 0.704851690032635\\end{matrix}\\right]$"
      ],
      "text/plain": [
       "Matrix([\n",
       "[0.901863369781848,                 0, -0.432021367811512,                  0],\n",
       "[                0, 0.704851690032635,                  0, -0.709354703274841],\n",
       "[0.432021367811512,                 0,  0.901863369781848,                  0],\n",
       "[                0, 0.709354703274841,                  0,  0.704851690032635]])"
      ]
     },
     "execution_count": 4,
     "metadata": {},
     "output_type": "execute_result"
    }
   ],
   "source": [
    "sympy.Matrix(d[1])\n",
    "for mat in d:\n",
    "    print(len(extract_unitaries(mat)[1]))"
   ]
  },
  {
   "cell_type": "code",
   "execution_count": 5,
   "metadata": {},
   "outputs": [
    {
     "name": "stdout",
     "output_type": "stream",
     "text": [
      "Number of ops: 3\n",
      "Fidelity: 1.0000000000000004\n",
      "1 2\n",
      "0 2\n",
      "1 2\n",
      "Number of ops: 7\n",
      "Fidelity: 0.9999999999999998\n",
      "2 4\n",
      "1 4\n",
      "2 4\n",
      "0 4\n",
      "2 4\n",
      "1 4\n",
      "2 4\n",
      "Number of ops: 15\n",
      "Fidelity: 1.0000000000000004\n",
      "3 8\n",
      "2 8\n",
      "3 8\n",
      "1 8\n",
      "3 8\n",
      "2 8\n",
      "3 8\n",
      "0 8\n",
      "3 8\n",
      "2 8\n",
      "3 8\n",
      "1 8\n",
      "3 8\n",
      "2 8\n",
      "3 8\n",
      "Number of ops: 31\n",
      "Fidelity: 1.0\n",
      "4 16\n",
      "3 16\n",
      "4 16\n",
      "2 16\n",
      "4 16\n",
      "3 16\n",
      "4 16\n",
      "1 16\n",
      "4 16\n",
      "3 16\n",
      "4 16\n",
      "2 16\n",
      "4 16\n",
      "3 16\n",
      "4 16\n",
      "0 16\n",
      "4 16\n",
      "3 16\n",
      "4 16\n",
      "2 16\n",
      "4 16\n",
      "3 16\n",
      "4 16\n",
      "1 16\n",
      "4 16\n",
      "3 16\n",
      "4 16\n",
      "2 16\n",
      "4 16\n",
      "3 16\n",
      "4 16\n",
      "Number of ops: 63\n",
      "Fidelity: 1.0\n",
      "5 32\n",
      "4 32\n",
      "5 32\n",
      "3 32\n",
      "5 32\n",
      "4 32\n",
      "5 32\n",
      "2 32\n",
      "5 32\n",
      "4 32\n",
      "5 32\n",
      "3 32\n",
      "5 32\n",
      "4 32\n",
      "5 32\n",
      "1 32\n",
      "5 32\n",
      "4 32\n",
      "5 32\n",
      "3 32\n",
      "5 32\n",
      "4 32\n",
      "5 32\n",
      "2 32\n",
      "5 32\n",
      "4 32\n",
      "5 32\n",
      "3 32\n",
      "5 32\n",
      "4 32\n",
      "5 32\n",
      "0 32\n",
      "5 32\n",
      "4 32\n",
      "5 32\n",
      "3 32\n",
      "5 32\n",
      "4 32\n",
      "5 32\n",
      "2 32\n",
      "5 32\n",
      "4 32\n",
      "5 32\n",
      "3 32\n",
      "5 32\n",
      "4 32\n",
      "5 32\n",
      "1 32\n",
      "5 32\n",
      "4 32\n",
      "5 32\n",
      "3 32\n",
      "5 32\n",
      "4 32\n",
      "5 32\n",
      "2 32\n",
      "5 32\n",
      "4 32\n",
      "5 32\n",
      "3 32\n",
      "5 32\n",
      "4 32\n",
      "5 32\n"
     ]
    }
   ],
   "source": [
    "def extract_unitaries(mat):\n",
    "    for tgt in range(nbits):\n",
    "        # get list of controlled unitary gates\n",
    "        ones = np.ones(mat.shape[0], complex)\n",
    "        umats = []\n",
    "        success = True\n",
    "        for cbits in itertools.product([0,1], repeat=nbits-1):\n",
    "            cbits = list(cbits)\n",
    "            cbits_before = cbits[:tgt]\n",
    "            cbit_after = cbits[tgt:]\n",
    "            idx0 = idx.idx_from_bits(cbits_before + [0] + cbit_after)\n",
    "            idx1 = idx.idx_from_bits(cbits_before + [1] + cbit_after)\n",
    "            umat = np.diag(ones)\n",
    "            umat[idx0,idx0] = mat[idx0,idx0]\n",
    "            umat[idx0,idx1] = mat[idx0,idx1]\n",
    "            umat[idx1,idx0] = mat[idx1,idx0]\n",
    "            umat[idx1,idx1] = mat[idx1,idx1]\n",
    "            # test if unitary\n",
    "            if not np.all(np.isclose(np.dot(np.transpose(np.conjugate(umat)), umat), np.identity(umat.shape[0]))):\n",
    "                success = False\n",
    "                break\n",
    "            if not np.all(np.isclose(umat, np.identity(umat.shape[0]), 1e-3, 1e-3)):\n",
    "                umats.append(umat)\n",
    "        if success:\n",
    "            return tgt,umats\n",
    "\n",
    "ngates = []\n",
    "for nbits in range(2,7):\n",
    "    a = np.random.random((2**nbits,2**nbits)) + 1j*np.random.random((2**nbits,2**nbits))\n",
    "    u,_ = np.linalg.qr(a)\n",
    "    d = decomp.factor(u)\n",
    "    ngate = 0\n",
    "    for mat in d:\n",
    "        tgt,umats = extract_unitaries(mat)\n",
    "        print(tgt, len(umats))\n",
    "        ngate += len(umats)\n",
    "    ngates.append(ngate)"
   ]
  },
  {
   "cell_type": "code",
   "execution_count": 6,
   "metadata": {},
   "outputs": [
    {
     "data": {
      "text/plain": [
       "array([[1., 0.],\n",
       "       [0., 1.]])"
      ]
     },
     "execution_count": 6,
     "metadata": {},
     "output_type": "execute_result"
    }
   ],
   "source": [
    "np.identity(2)"
   ]
  },
  {
   "cell_type": "code",
   "execution_count": 7,
   "metadata": {},
   "outputs": [
    {
     "data": {
      "text/plain": [
       "[<matplotlib.lines.Line2D at 0x7f6c49f1d360>]"
      ]
     },
     "execution_count": 7,
     "metadata": {},
     "output_type": "execute_result"
    },
    {
     "data": {
      "image/png": "[encoded data removed]",
      "text/plain": [
       "<Figure size 432x288 with 1 Axes>"
      ]
     },
     "metadata": {
      "needs_background": "light"
     },
     "output_type": "display_data"
    }
   ],
   "source": [
    "import matplotlib.pyplot as plt\n",
    "plt.plot(range(2,7), ngates)\n",
    "plt.plot(range(2,7), [4**x/2 for x in range(2,7)])"
   ]
  },
  {
   "cell_type": "code",
   "execution_count": null,
   "metadata": {},
   "outputs": [],
   "source": []
  }
 ],
 "metadata": {
  "kernelspec": {
   "display_name": "Python 3.10.5 ('qc')",
   "language": "python",
   "name": "python3"
  },
  "language_info": {
   "codemirror_mode": {
    "name": "ipython",
    "version": 3
   },
   "file_extension": ".py",
   "mimetype": "text/x-python",
   "name": "python",
   "nbconvert_exporter": "python",
   "pygments_lexer": "ipython3",
   "version": "3.10.5"
  },
  "orig_nbformat": 4,
  "vscode": {
   "interpreter": {
    "hash": "4052f8a41a31fc5cbd2e3526dbc8abbffa51b82c1f3d5451a58f494cdae71e31"
   }
  }
 },
 "nbformat": 4,
 "nbformat_minor": 2
}
