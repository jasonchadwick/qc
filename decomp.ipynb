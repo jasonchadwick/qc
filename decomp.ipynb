{
 "cells": [
  {
   "cell_type": "code",
   "execution_count": null,
   "metadata": {},
   "outputs": [],
   "source": [
    "from qiskit import *\n",
    "from qiskit import QuantumCircuit, Aer\n",
    "import sympy\n",
    "import numpy as np\n",
    "from scipy import linalg\n",
    "from functools import reduce\n",
    "import itertools\n",
    "\n",
    "import utils.idx as idx\n",
    "import decomp"
   ]
  },
  {
   "cell_type": "code",
   "execution_count": null,
   "metadata": {},
   "outputs": [],
   "source": [
    "X = np.array([[0, 1], [1, 0]])\n",
    "Y = np.array([[0, -1j], [1j, 0]])\n",
    "Z = np.array([[1, 0], [0, -1]])\n",
    "r2 = 1/np.sqrt(2)\n",
    "H = np.array([[r2, r2], [r2, -r2]])\n",
    "i2 = np.array([[1, 0], [0, 1]])"
   ]
  },
  {
   "cell_type": "code",
   "execution_count": null,
   "metadata": {},
   "outputs": [],
   "source": [
    "nbits = 2\n",
    "a = np.random.random((2**nbits,2**nbits)) + 1j*np.random.random((2**nbits,2**nbits))\n",
    "u,_ = np.linalg.qr(a)\n",
    "d = decomp.factor(\"QASMBench/small/dnn_n2/dnn_n2.qasm\")"
   ]
  },
  {
   "cell_type": "code",
   "execution_count": null,
   "metadata": {},
   "outputs": [],
   "source": [
    "def extract_unitaries(mat):\n",
    "    for tgt in range(nbits):\n",
    "        # get list of controlled unitary gates\n",
    "        ones = np.ones(mat.shape[0], complex)\n",
    "        umats = []\n",
    "        success = True\n",
    "        for cbits in itertools.product([0,1], repeat=nbits-1):\n",
    "            cbits = list(cbits)\n",
    "            cbits_before = cbits[:tgt]\n",
    "            cbit_after = cbits[tgt:]\n",
    "            idx0 = idx.idx_from_bits(cbits_before + [0] + cbit_after)\n",
    "            idx1 = idx.idx_from_bits(cbits_before + [1] + cbit_after)\n",
    "            umat = np.diag(ones)\n",
    "            umat[idx0,idx0] = mat[idx0,idx0]\n",
    "            umat[idx0,idx1] = mat[idx0,idx1]\n",
    "            umat[idx1,idx0] = mat[idx1,idx0]\n",
    "            umat[idx1,idx1] = mat[idx1,idx1]\n",
    "            # test if unitary\n",
    "            if not np.all(np.isclose(np.dot(np.transpose(np.conjugate(umat)), umat), np.identity(umat.shape[0]))):\n",
    "                success = False\n",
    "                break\n",
    "            if not np.all(np.isclose(umat, np.identity(umat.shape[0]), 1e-3, 1e-3)):\n",
    "                umats.append(umat)\n",
    "        if success:\n",
    "            return tgt,umats"
   ]
  },
  {
   "cell_type": "code",
   "execution_count": null,
   "metadata": {},
   "outputs": [],
   "source": [
    "sympy.Matrix(d[1])\n",
    "for mat in d:\n",
    "    print(len(extract_unitaries(mat)[1]))"
   ]
  },
  {
   "cell_type": "code",
   "execution_count": null,
   "metadata": {},
   "outputs": [],
   "source": [
    "\n",
    "\n",
    "ngates = []\n",
    "for nbits in range(2,7):\n",
    "    a = np.random.random((2**nbits,2**nbits)) + 1j*np.random.random((2**nbits,2**nbits))\n",
    "    u,_ = np.linalg.qr(a)\n",
    "    d = decomp.factor(u)\n",
    "    ngate = 0\n",
    "    for mat in d:\n",
    "        tgt,umats = extract_unitaries(mat)\n",
    "        print(tgt, len(umats))\n",
    "        ngate += len(umats)\n",
    "    ngates.append(ngate)"
   ]
  },
  {
   "cell_type": "code",
   "execution_count": null,
   "metadata": {},
   "outputs": [],
   "source": [
    "np.identity(2)"
   ]
  },
  {
   "cell_type": "code",
   "execution_count": null,
   "metadata": {},
   "outputs": [],
   "source": [
    "import matplotlib.pyplot as plt\n",
    "plt.plot(range(2,7), ngates)\n",
    "plt.plot(range(2,7), [4**x/2 for x in range(2,7)])"
   ]
  },
  {
   "cell_type": "code",
   "execution_count": null,
   "metadata": {},
   "outputs": [],
   "source": []
  }
 ],
 "metadata": {
  "kernelspec": {
   "display_name": "Python 3.10.5 ('qc')",
   "language": "python",
   "name": "python3"
  },
  "language_info": {
   "codemirror_mode": {
    "name": "ipython",
    "version": 3
   },
   "file_extension": ".py",
   "mimetype": "text/x-python",
   "name": "python",
   "nbconvert_exporter": "python",
   "pygments_lexer": "ipython3",
   "version": "3.10.5"
  },
  "orig_nbformat": 4,
  "vscode": {
   "interpreter": {
    "hash": "4052f8a41a31fc5cbd2e3526dbc8abbffa51b82c1f3d5451a58f494cdae71e31"
   }
  }
 },
 "nbformat": 4,
 "nbformat_minor": 2
}
