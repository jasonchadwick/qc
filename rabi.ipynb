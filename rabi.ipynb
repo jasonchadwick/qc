{
 "cells": [
  {
   "cell_type": "code",
   "execution_count": null,
   "metadata": {},
   "outputs": [],
   "source": [
    "import qutip as qt\n",
    "import numpy as np\n",
    "import matplotlib.pyplot as plt"
   ]
  },
  {
   "cell_type": "code",
   "execution_count": null,
   "metadata": {},
   "outputs": [],
   "source": [
    "H = 2*np.pi*0.1*qt.sigmax() + 2*np.pi*1*qt.sigmaz()\n",
    "psi0 = qt.basis(2,0)\n",
    "times = np.linspace(0, 1, 1000)\n",
    "res = qt.sesolve(H, psi0, times, [qt.sigmaz()])"
   ]
  },
  {
   "cell_type": "code",
   "execution_count": null,
   "metadata": {},
   "outputs": [],
   "source": [
    "plt.plot(times, res.expect[0])"
   ]
  },
  {
   "cell_type": "code",
   "execution_count": null,
   "metadata": {},
   "outputs": [],
   "source": [
    "g = qt.basis(3,0)\n",
    "e = qt.basis(3,1)\n",
    "r = qt.basis(3,2)\n",
    "\n",
    "gg = g*g.dag()\n",
    "ee = e*e.dag()\n",
    "rr = r*r.dag()\n",
    "\n",
    "rabi = 1\n",
    "detune = 0.377371 * rabi\n",
    "xi = 3.90242\n",
    "tau = 4.29268 / rabi\n",
    "v = 100\n",
    "\n",
    "H = (qt.tensor(0.5*rabi*(e*r.dag() + r*e.dag()), gg+ee+rr) - qt.tensor(detune*(r*r.dag()), gg+ee+rr)\n",
    "  + qt.tensor(gg+ee+rr, 0.5*rabi*(e*r.dag() + r*e.dag())) - qt.tensor(gg+ee+rr, detune*(r*r.dag())))"
   ]
  },
  {
   "cell_type": "code",
   "execution_count": null,
   "metadata": {},
   "outputs": [],
   "source": [
    "H.isherm"
   ]
  },
  {
   "cell_type": "code",
   "execution_count": null,
   "metadata": {},
   "outputs": [],
   "source": [
    "psi0 = qt.basis([3,3], [0,0])\n",
    "times = np.linspace(0,10,1000)\n",
    "res = qt.sesolve(H, psi0, times, [qt.tensor(gg, gg)])"
   ]
  },
  {
   "cell_type": "code",
   "execution_count": null,
   "metadata": {},
   "outputs": [],
   "source": [
    "res.expect"
   ]
  },
  {
   "cell_type": "code",
   "execution_count": null,
   "metadata": {},
   "outputs": [],
   "source": []
  }
 ],
 "metadata": {
  "kernelspec": {
   "display_name": "Python 3.10.5 ('qc')",
   "language": "python",
   "name": "python3"
  },
  "language_info": {
   "codemirror_mode": {
    "name": "ipython",
    "version": 3
   },
   "file_extension": ".py",
   "mimetype": "text/x-python",
   "name": "python",
   "nbconvert_exporter": "python",
   "pygments_lexer": "ipython3",
   "version": "3.10.5"
  },
  "orig_nbformat": 4,
  "vscode": {
   "interpreter": {
    "hash": "4052f8a41a31fc5cbd2e3526dbc8abbffa51b82c1f3d5451a58f494cdae71e31"
   }
  }
 },
 "nbformat": 4,
 "nbformat_minor": 2
}
