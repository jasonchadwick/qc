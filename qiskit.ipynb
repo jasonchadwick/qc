{
 "cells": [
  {
   "cell_type": "code",
   "execution_count": 9,
   "metadata": {},
   "outputs": [
    {
     "data": {
      "text/html": [
       "<pre style=\"word-wrap: normal;white-space: pre;background: #fff0;line-height: 1.1;font-family: &quot;Courier New&quot;,Courier,monospace\">     ┌───┐        \n",
       "q_0: ┤ H ├──■─────\n",
       "     ├───┤┌─┴─┐   \n",
       "q_1: ┤ H ├┤ X ├─X─\n",
       "     ├───┤└───┘ │ \n",
       "q_2: ┤ H ├──────X─\n",
       "     └───┘        </pre>"
      ],
      "text/plain": [
       "     ┌───┐        \n",
       "q_0: ┤ H ├──■─────\n",
       "     ├───┤┌─┴─┐   \n",
       "q_1: ┤ H ├┤ X ├─X─\n",
       "     ├───┤└───┘ │ \n",
       "q_2: ┤ H ├──────X─\n",
       "     └───┘        "
      ]
     },
     "execution_count": 9,
     "metadata": {},
     "output_type": "execute_result"
    }
   ],
   "source": [
    "import numpy as np\n",
    "from qiskit import *\n",
    "from qiskit import Aer\n",
    "\n",
    "#Changing the simulator \n",
    "backend = Aer.get_backend('unitary_simulator')\n",
    "\n",
    "#The circuit without measurement\n",
    "circ = QuantumCircuit(3)\n",
    "circ.h([0,1,2])\n",
    "circ.cnot(0,1)\n",
    "circ.swap(1,2)\n",
    "circ.draw()"
   ]
  },
  {
   "cell_type": "code",
   "execution_count": null,
   "metadata": {},
   "outputs": [],
   "source": [
    "#job execution and getting the result as an object\n",
    "job = execute(circ, backend)\n",
    "result = job.result()\n",
    "\n",
    "#get the unitary matrix from the result object\n",
    "print(result.get_unitary(circ, decimals=3))"
   ]
  },
  {
   "cell_type": "code",
   "execution_count": 11,
   "metadata": {},
   "outputs": [
    {
     "data": {
      "text/html": [
       "<pre style=\"word-wrap: normal;white-space: pre;background: #fff0;line-height: 1.1;font-family: &quot;Courier New&quot;,Courier,monospace\">     ┌─────────┐                    \n",
       "q_0: ┤ U2(0,π) ├──■─────────────────\n",
       "     ├─────────┤┌─┴─┐     ┌───┐     \n",
       "q_1: ┤ U2(0,π) ├┤ X ├──■──┤ X ├──■──\n",
       "     ├─────────┤└───┘┌─┴─┐└─┬─┘┌─┴─┐\n",
       "q_2: ┤ U2(0,π) ├─────┤ X ├──■──┤ X ├\n",
       "     └─────────┘     └───┘     └───┘</pre>"
      ],
      "text/plain": [
       "     ┌─────────┐                    \n",
       "q_0: ┤ U2(0,π) ├──■─────────────────\n",
       "     ├─────────┤┌─┴─┐     ┌───┐     \n",
       "q_1: ┤ U2(0,π) ├┤ X ├──■──┤ X ├──■──\n",
       "     ├─────────┤└───┘┌─┴─┐└─┬─┘┌─┴─┐\n",
       "q_2: ┤ U2(0,π) ├─────┤ X ├──■──┤ X ├\n",
       "     └─────────┘     └───┘     └───┘"
      ]
     },
     "execution_count": 11,
     "metadata": {},
     "output_type": "execute_result"
    }
   ],
   "source": [
    "circ.decompose().draw()"
   ]
  },
  {
   "cell_type": "code",
   "execution_count": 3,
   "metadata": {},
   "outputs": [],
   "source": [
    "from scipy import linalg\n",
    "import numpy as np\n",
    "\n",
    "def op(m, phi):\n",
    "    return linalg.expm(-1j * m * phi)\n",
    "X = np.array([[0, 1], [1, 0]])\n",
    "Y = np.array([[0, -1j], [1j, 0]])\n",
    "Z = np.array([[1, 0], [0, -1]])\n",
    "r2 = 1/np.sqrt(2)\n",
    "H = np.array([[r2, r2], [r2, -r2]])\n",
    "i2 = np.array([[1, 0], [0, 1]])"
   ]
  },
  {
   "cell_type": "code",
   "execution_count": null,
   "metadata": {},
   "outputs": [],
   "source": []
  }
 ],
 "metadata": {
  "kernelspec": {
   "display_name": "Python 3.10.5 ('qc')",
   "language": "python",
   "name": "python3"
  },
  "language_info": {
   "codemirror_mode": {
    "name": "ipython",
    "version": 3
   },
   "file_extension": ".py",
   "mimetype": "text/x-python",
   "name": "python",
   "nbconvert_exporter": "python",
   "pygments_lexer": "ipython3",
   "version": "3.10.5"
  },
  "orig_nbformat": 4,
  "vscode": {
   "interpreter": {
    "hash": "4052f8a41a31fc5cbd2e3526dbc8abbffa51b82c1f3d5451a58f494cdae71e31"
   }
  }
 },
 "nbformat": 4,
 "nbformat_minor": 2
}
